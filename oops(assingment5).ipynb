{
 "cells": [
  {
   "cell_type": "markdown",
   "metadata": {},
   "source": [
    "1. What are the five key concepts of Object-Oriented Programming (OOP)?"
   ]
  },
  {
   "cell_type": "markdown",
   "metadata": {},
   "source": [
    "**Encapsulation:**\n",
    "Encapsulation is the practice of bundling data (attributes) and methods (functions) that operate on the data into a single unit or class. It also involves restricting direct access to some of an object’s components, which is achieved through private or protected members.\n",
    "**Abstraction:** Abstraction refers to hiding the complexity of a system and exposing only the necessary parts. In OOP, this can be done by defining abstract classes or interfaces that declare methods without implementing them. Concrete classes can then provide specific implementations.\n",
    "**Inheritance:**\n",
    "Inheritance allows a class to inherit properties and methods from another class. The class that inherits is called the child or subclass, and the class from which it inherits is called the parent or superclass.\n",
    "**Polymorphism**\n",
    "Polymorphism allows objects of different classes to be treated as objects of a common super class. It allows one interface to be used for a general class of actions. The specific action is determined by the exact nature of the situation."
   ]
  },
  {
   "cell_type": "markdown",
   "metadata": {},
   "source": [
    "2. Write a Python class for a `Car` with attributes for `make`, `model`, and `year`. Include a method to display\n",
    "the car's information."
   ]
  },
  {
   "cell_type": "code",
   "execution_count": 1,
   "metadata": {},
   "outputs": [],
   "source": [
    "class Car:\n",
    "    def __init__(self,make,model,year):\n",
    "        self.make = make\n",
    "        self.model = model\n",
    "        self.year = year\n",
    "    \n",
    "    def car_information(self):\n",
    "        print(\"Car make: \",self.make)\n",
    "        print(\"Car model: \",self.model)\n",
    "        print(\"Car Year: \",self.year)"
   ]
  },
  {
   "cell_type": "code",
   "execution_count": 2,
   "metadata": {},
   "outputs": [
    {
     "name": "stdout",
     "output_type": "stream",
     "text": [
      "Car make:  TATA\n",
      "Car model:  Ev\n",
      "Car Year:  2024\n"
     ]
    }
   ],
   "source": [
    "obj1 = Car(\"TATA\",\"Ev\",2024)\n",
    "obj1.car_information()"
   ]
  },
  {
   "cell_type": "markdown",
   "metadata": {},
   "source": [
    "3.  Explain the difference between instance methods and class methods. Provide an example of each."
   ]
  },
  {
   "cell_type": "markdown",
   "metadata": {},
   "source": [
    "Instance methods in Python operate on instances of a class and can access or modify instance-specific attributes, with self as the first parameter. They are used when the method's behavior depends on the individual object. On the other hand, class methods operate on the class itself rather than on instances, using cls as the first parameter, and are typically used to manipulate class-level data or provide functionality related to the class as a whole. Class methods are defined using the @classmethod decorator, while instance methods are the default method type."
   ]
  },
  {
   "cell_type": "code",
   "execution_count": 1,
   "metadata": {},
   "outputs": [],
   "source": [
    "#Instance method\n",
    "class Dog:\n",
    "    def __init__(self, name, age):\n",
    "        self.name = name\n",
    "        self.age = age\n",
    "\n",
    "    def bark(self):  \n",
    "        return self.name\n"
   ]
  },
  {
   "cell_type": "code",
   "execution_count": 2,
   "metadata": {},
   "outputs": [
    {
     "name": "stdout",
     "output_type": "stream",
     "text": [
      "Buddy\n"
     ]
    }
   ],
   "source": [
    "dog1 = Dog(\"Buddy\", 4)\n",
    "print(dog1.bark())"
   ]
  },
  {
   "cell_type": "code",
   "execution_count": 3,
   "metadata": {},
   "outputs": [],
   "source": [
    "#Class method\n",
    "class Student:\n",
    "    class_of_student = \"XII\" #Class attributes\n"
   ]
  },
  {
   "cell_type": "code",
   "execution_count": 4,
   "metadata": {},
   "outputs": [
    {
     "data": {
      "text/plain": [
       "'XII'"
      ]
     },
     "execution_count": 4,
     "metadata": {},
     "output_type": "execute_result"
    }
   ],
   "source": [
    "obj = Student()\n",
    "obj.class_of_student"
   ]
  },
  {
   "cell_type": "markdown",
   "metadata": {},
   "source": [
    "4.  How does Python implement method overloading? Give an example."
   ]
  },
  {
   "cell_type": "markdown",
   "metadata": {},
   "source": [
    "Python does not support true method overloading in the traditional sense, where you can define multiple methods with the same name but different parameters. In Python, if you define multiple methods with the same name in a class, the last one will override the previous ones.\n",
    "\n",
    "However, you can achieve method overloading by using default arguments, variable-length arguments (*args and **kwargs), or by explicitly checking the types and number of arguments inside the method."
   ]
  },
  {
   "cell_type": "code",
   "execution_count": 1,
   "metadata": {},
   "outputs": [],
   "source": [
    "class MathOperations:\n",
    "    def add(self, *args):\n",
    "        # If no arguments are passed\n",
    "        if len(args) == 0:\n",
    "            return \"No arguments provided\"\n",
    "        # If only one argument is passed\n",
    "        elif len(args) == 1:\n",
    "            return f\"Only one argument: {args[0]}\"\n",
    "        # If two arguments are passed\n",
    "        elif len(args) == 2:\n",
    "            return f\"Sum of two arguments: {args[0] + args[1]}\"\n",
    "        # If more than two arguments are passed\n",
    "        else:\n",
    "            return f\"Sum of all arguments: {sum(args)}\"\n",
    "\n"
   ]
  },
  {
   "cell_type": "code",
   "execution_count": 2,
   "metadata": {},
   "outputs": [
    {
     "name": "stdout",
     "output_type": "stream",
     "text": [
      "No arguments provided\n",
      "Only one argument: 5\n",
      "Sum of two arguments: 8\n",
      "Sum of all arguments: 11\n"
     ]
    }
   ],
   "source": [
    "math_op = MathOperations()\n",
    "print(math_op.add())              \n",
    "print(math_op.add(5))            \n",
    "print(math_op.add(5, 3))            \n",
    "print(math_op.add(5, 3, 2, 1))     \n"
   ]
  },
  {
   "cell_type": "markdown",
   "metadata": {},
   "source": [
    "5.  What are the three types of access modifiers in Python? How are they denoted?"
   ]
  },
  {
   "cell_type": "markdown",
   "metadata": {},
   "source": [
    "Python uses naming conventions to simulate three types of access control: public, protected, and private."
   ]
  },
  {
   "cell_type": "code",
   "execution_count": 4,
   "metadata": {},
   "outputs": [],
   "source": [
    "#public\n",
    "class Student:\n",
    "    def __init__(self,name):\n",
    "        self.name = name        #here name is public"
   ]
  },
  {
   "cell_type": "code",
   "execution_count": 8,
   "metadata": {},
   "outputs": [
    {
     "name": "stdout",
     "output_type": "stream",
     "text": [
      "Mahabir\n",
      "Manik\n"
     ]
    }
   ],
   "source": [
    "obj1 = Student(\"Mahabir\")\n",
    "print(obj1.name)\n",
    "#we can the name of obj1 because name is public\n",
    "obj1.name = \"Manik\"\n",
    "print(obj1.name)"
   ]
  },
  {
   "cell_type": "code",
   "execution_count": 9,
   "metadata": {},
   "outputs": [],
   "source": [
    "#private\n",
    "class Student:\n",
    "    def __init__ (self,name):\n",
    "        self.__name = name\n"
   ]
  },
  {
   "cell_type": "code",
   "execution_count": 10,
   "metadata": {},
   "outputs": [
    {
     "ename": "AttributeError",
     "evalue": "'Student' object has no attribute 'name'",
     "output_type": "error",
     "traceback": [
      "\u001b[1;31m---------------------------------------------------------------------------\u001b[0m",
      "\u001b[1;31mAttributeError\u001b[0m                            Traceback (most recent call last)",
      "Cell \u001b[1;32mIn[10], line 2\u001b[0m\n\u001b[0;32m      1\u001b[0m obj1 \u001b[38;5;241m=\u001b[39m Student(\u001b[38;5;124m\"\u001b[39m\u001b[38;5;124mMahabir\u001b[39m\u001b[38;5;124m\"\u001b[39m)\n\u001b[1;32m----> 2\u001b[0m \u001b[43mobj1\u001b[49m\u001b[38;5;241;43m.\u001b[39;49m\u001b[43mname\u001b[49m\n",
      "\u001b[1;31mAttributeError\u001b[0m: 'Student' object has no attribute 'name'"
     ]
    }
   ],
   "source": [
    "obj1 = Student(\"Mahabir\")\n",
    "obj1.name     #we can't access the private property in a student class"
   ]
  },
  {
   "cell_type": "markdown",
   "metadata": {},
   "source": [
    "6. Describe the five types of inheritance in Python. Provide a simple example of multiple inheritance."
   ]
  },
  {
   "cell_type": "code",
   "execution_count": 11,
   "metadata": {},
   "outputs": [],
   "source": [
    "#single inheriatance: when a derived class has only one parent class\n",
    "class Father:\n",
    "    def father_property(self):\n",
    "        print(\"This is father property\")\n",
    "\n",
    "class Son(Father):\n",
    "    def son_property(self):\n",
    "        print(\"This is son property\")"
   ]
  },
  {
   "cell_type": "code",
   "execution_count": 14,
   "metadata": {},
   "outputs": [
    {
     "name": "stdout",
     "output_type": "stream",
     "text": [
      "This is father property\n",
      "None\n",
      "This is son property\n",
      "None\n"
     ]
    }
   ],
   "source": [
    "son_obj = Son()\n",
    "print(son_obj.father_property())\n",
    "print(son_obj.son_property())"
   ]
  },
  {
   "cell_type": "code",
   "execution_count": 16,
   "metadata": {},
   "outputs": [],
   "source": [
    "#Multi-level inheritance\n",
    "#Multi-level inheritance is a type of inheritance where a class is derived from a class that is \n",
    "#also derived from another class.\n",
    "\n",
    "class GrandFather:\n",
    "    def GrandFather_property(self):\n",
    "        print(\"This is GrandFather's property\")\n",
    "class Father(GrandFather):\n",
    "    def father_property(self):\n",
    "        print(\"This is the father's property\")\n",
    "class Son(Father):\n",
    "    def son_property(self):\n",
    "        print(\"This is the son's property\")\n"
   ]
  },
  {
   "cell_type": "code",
   "execution_count": 17,
   "metadata": {},
   "outputs": [
    {
     "name": "stdout",
     "output_type": "stream",
     "text": [
      "This is the father's property\n"
     ]
    }
   ],
   "source": [
    "obj1 = Son()\n",
    "obj1.father_property()"
   ]
  },
  {
   "cell_type": "code",
   "execution_count": 18,
   "metadata": {},
   "outputs": [],
   "source": [
    "#multiple inheritance\n",
    "#one chaild class may inherit from two or more parent class\n",
    "class Parent1:\n",
    "    def method1(self):\n",
    "        print(\"This is method 1\")\n",
    "class Parent2:\n",
    "    def method2(self):\n",
    "        print(\"This is method 2\")\n",
    "class Child(Parent1,Parent2):\n",
    "    def method(self):\n",
    "        print(\"This is method\")"
   ]
  },
  {
   "cell_type": "code",
   "execution_count": 19,
   "metadata": {},
   "outputs": [
    {
     "name": "stdout",
     "output_type": "stream",
     "text": [
      "This is method 1\n"
     ]
    }
   ],
   "source": [
    "obj1 = Child()\n",
    "obj1.method1()"
   ]
  },
  {
   "cell_type": "code",
   "execution_count": 20,
   "metadata": {},
   "outputs": [],
   "source": [
    "#Hierarchical inheritance: One parent class have more than two child class\n",
    "class Parent:\n",
    "    def info(self):\n",
    "        print(\"This parent class\")\n",
    "class Son1(Parent):\n",
    "    def son1_info(self):\n",
    "        print(\"This is son1 info\")\n",
    "class Son2(Parent):\n",
    "    def son2_info(self):\n",
    "        print(\"This is son2 info\")"
   ]
  },
  {
   "cell_type": "code",
   "execution_count": 21,
   "metadata": {},
   "outputs": [
    {
     "name": "stdout",
     "output_type": "stream",
     "text": [
      "This is son2 info\n"
     ]
    }
   ],
   "source": [
    "obj1 = Son2()\n",
    "obj1.son2_info()"
   ]
  },
  {
   "cell_type": "code",
   "execution_count": 22,
   "metadata": {},
   "outputs": [],
   "source": [
    "#Hybrid inheritance is a combination of two or more types of inheritance. \n",
    "# It involves multiple inheritance structures, where different classes in a hierarchy are\n",
    "#connected through multiple inheritance paths. This allows for a mix of single, multiple,\n",
    "#hierarchical, and multi-level inheritance.\n",
    "\n",
    "class Animal:\n",
    "    def sound(self):\n",
    "        return \"Some generic animal sound\"\n",
    "class Dog(Animal):\n",
    "    def bark(self):\n",
    "        return \"Woof!\"\n",
    "\n",
    "class Vehicle:\n",
    "    def start_engine(self):\n",
    "        return \"Engine started\"\n",
    "\n",
    "class RobotDog(Dog, Vehicle):\n",
    "    def robot_bark(self):\n",
    "        return \"Beep Boop Woof!\"\n",
    "\n",
    "\n"
   ]
  },
  {
   "cell_type": "code",
   "execution_count": 23,
   "metadata": {},
   "outputs": [
    {
     "name": "stdout",
     "output_type": "stream",
     "text": [
      "Some generic animal sound\n",
      "Woof!\n",
      "Engine started\n",
      "Beep Boop Woof!\n"
     ]
    }
   ],
   "source": [
    "\n",
    "robot_dog = RobotDog()\n",
    "print(robot_dog.sound())       \n",
    "print(robot_dog.bark())      \n",
    "print(robot_dog.start_engine()) \n",
    "print(robot_dog.robot_bark()) "
   ]
  },
  {
   "cell_type": "markdown",
   "metadata": {},
   "source": [
    "7. What is the Method Resolution Order (MRO) in Python? How can you retrieve it programmatically?"
   ]
  },
  {
   "cell_type": "markdown",
   "metadata": {},
   "source": [
    "The Method Resolution Order (MRO) in Python defines the order in which methods are searched for in a hierarchy of classes during inheritance. When a method is called on an object, Python looks for the method in the current class and, if not found, follows the inheritance chain to locate it. MRO is particularly important in cases of multiple inheritance, where a class inherits from multiple parent classes, and Python needs a consistent rule to determine which parent class to look into first. MRO ensures that methods are resolved in a deterministic order, avoiding ambiguity and conflicts in method definitions."
   ]
  },
  {
   "cell_type": "markdown",
   "metadata": {},
   "source": [
    "You can retrieve the Method Resolution Order (MRO) of a class programmatically using the mro() method or the __mro__ attribute in Python. The mro() method is a class method available on all classes, and it returns a list that shows the order in which the base classes will be searched for a method. This list includes the class itself, followed by its base classes, all the way up to the object class (the root class in Python). Another way to retrieve the MRO is by using the __mro__ attribute, which stores the same information as a tuple. These methods are particularly useful for debugging and understanding the inheritance hierarchy in complex multiple inheritance situations."
   ]
  },
  {
   "cell_type": "code",
   "execution_count": 24,
   "metadata": {},
   "outputs": [
    {
     "name": "stdout",
     "output_type": "stream",
     "text": [
      "[<class '__main__.C'>, <class '__main__.B'>, <class '__main__.A'>, <class 'object'>]\n"
     ]
    }
   ],
   "source": [
    "class A:\n",
    "    pass\n",
    "\n",
    "class B(A):\n",
    "    pass\n",
    "\n",
    "class C(B):\n",
    "    pass\n",
    "\n",
    "print(C.mro())\n"
   ]
  },
  {
   "cell_type": "markdown",
   "metadata": {},
   "source": [
    "8. Create an abstract base class `Shape` with an abstract method `area()`. Then create two subclasses\n",
    "`Circle` and `Rectangle` that implement the `area()` method."
   ]
  },
  {
   "cell_type": "code",
   "execution_count": 28,
   "metadata": {},
   "outputs": [],
   "source": [
    "import abc\n",
    "class Shape:\n",
    "    @abc.abstractmethod\n",
    "    def area(self):\n",
    "        pass\n",
    "class Circle(Shape):       #Circle sub class\n",
    "    def __init__(self,rad):\n",
    "        self.rad = rad\n",
    "    def area(self):\n",
    "        return 3.14 * self.rad ** 2\n",
    "class Rectangle(Shape):    #Rectangle sub class\n",
    "    def __init__(self,a,b):\n",
    "        self.a = a\n",
    "        self.b = b\n",
    "    def area(self):\n",
    "        return self.a * self.b\n",
    "    "
   ]
  },
  {
   "cell_type": "code",
   "execution_count": 29,
   "metadata": {},
   "outputs": [
    {
     "data": {
      "text/plain": [
       "30"
      ]
     },
     "execution_count": 29,
     "metadata": {},
     "output_type": "execute_result"
    }
   ],
   "source": [
    "rec_obj = Rectangle(5,6)\n",
    "rec_obj.area()"
   ]
  },
  {
   "cell_type": "code",
   "execution_count": 30,
   "metadata": {},
   "outputs": [
    {
     "data": {
      "text/plain": [
       "78.5"
      ]
     },
     "execution_count": 30,
     "metadata": {},
     "output_type": "execute_result"
    }
   ],
   "source": [
    "cir_obj = Circle(5)\n",
    "cir_obj.area()"
   ]
  },
  {
   "cell_type": "markdown",
   "metadata": {},
   "source": [
    "9. Demonstrate polymorphism by creating a function that can work with different shape objects to calculate\n",
    "and print their areas."
   ]
  },
  {
   "cell_type": "code",
   "execution_count": 39,
   "metadata": {},
   "outputs": [],
   "source": [
    "class Circle:\n",
    "    def __init__(self,rad):\n",
    "        self.rad = rad\n",
    "    def area(self):\n",
    "        print(\"Area of circle:\", 3.14*self.rad**2)\n",
    "\n",
    "class Rectangle:\n",
    "    def __init__(self,a,b):\n",
    "        self.a = a\n",
    "        self.b = b\n",
    "    def area(self):\n",
    "        print(\"Area of Rectangle:\", self.a * self.b)\n",
    "\n",
    "class Square:\n",
    "    def __init__(self,a):\n",
    "        self.a = a\n",
    "    def area(self):\n",
    "        print(\"Area of Square:\",self.a ** 2)"
   ]
  },
  {
   "cell_type": "code",
   "execution_count": 41,
   "metadata": {},
   "outputs": [
    {
     "name": "stdout",
     "output_type": "stream",
     "text": [
      "Area of circle: 78.5\n",
      "Area of Rectangle: 6\n",
      "Area of Square: 4\n"
     ]
    }
   ],
   "source": [
    "obj_cir = Circle(5)\n",
    "obj_rec = Rectangle(2,3)\n",
    "obj_squ = Square(2)\n",
    "result = [obj_cir,obj_rec,obj_squ]\n",
    "\n",
    "for i in result:\n",
    "    i.area()"
   ]
  },
  {
   "cell_type": "markdown",
   "metadata": {},
   "source": [
    "10. Implement encapsulation in a `BankAccount` class with private attributes for `balance` and\n",
    "`account_number`. Include methods for deposit, withdrawal, and balance inquiry."
   ]
  },
  {
   "cell_type": "code",
   "execution_count": 54,
   "metadata": {},
   "outputs": [],
   "source": [
    "class BankAccount:\n",
    "    def __init__(self,balance,account_number):\n",
    "        self.__balace = balance\n",
    "        self.__account_number = account_number\n",
    "    \n",
    "    def deposit(self,amount):\n",
    "        self.__balace = self.__balace + amount\n",
    "        print(\"Deposit Done\")\n",
    "\n",
    "    def withdrawal(self,amount):\n",
    "        if amount > self.__balace :\n",
    "            print(\"Withdrawal not possible!! Try again!!\")\n",
    "        else:\n",
    "            self.__balace = self.__balace - amount\n",
    "            print(\"Withdrawal Done\")\n",
    "\n",
    "    def balance_inquiry(self):\n",
    "        print(\"Your balance: \",self.__balace)"
   ]
  },
  {
   "cell_type": "code",
   "execution_count": 57,
   "metadata": {},
   "outputs": [],
   "source": [
    "per1 = BankAccount(5000,3630788140)"
   ]
  },
  {
   "cell_type": "code",
   "execution_count": 58,
   "metadata": {},
   "outputs": [
    {
     "name": "stdout",
     "output_type": "stream",
     "text": [
      "Your balance:  5000\n"
     ]
    }
   ],
   "source": [
    "per1.balance_inquiry()"
   ]
  },
  {
   "cell_type": "code",
   "execution_count": 59,
   "metadata": {},
   "outputs": [
    {
     "name": "stdout",
     "output_type": "stream",
     "text": [
      "Deposit Done\n"
     ]
    }
   ],
   "source": [
    "per1.deposit(1000)"
   ]
  },
  {
   "cell_type": "code",
   "execution_count": 60,
   "metadata": {},
   "outputs": [
    {
     "name": "stdout",
     "output_type": "stream",
     "text": [
      "Your balance:  6000\n"
     ]
    }
   ],
   "source": [
    "per1.balance_inquiry()"
   ]
  },
  {
   "cell_type": "code",
   "execution_count": 61,
   "metadata": {},
   "outputs": [
    {
     "name": "stdout",
     "output_type": "stream",
     "text": [
      "Withdrawal Done\n"
     ]
    }
   ],
   "source": [
    "per1.withdrawal(2000)"
   ]
  },
  {
   "cell_type": "code",
   "execution_count": 62,
   "metadata": {},
   "outputs": [
    {
     "name": "stdout",
     "output_type": "stream",
     "text": [
      "Your balance:  4000\n"
     ]
    }
   ],
   "source": [
    "per1.balance_inquiry()"
   ]
  },
  {
   "cell_type": "code",
   "execution_count": 63,
   "metadata": {},
   "outputs": [
    {
     "name": "stdout",
     "output_type": "stream",
     "text": [
      "Withdrawal not possible!! Try again!!\n"
     ]
    }
   ],
   "source": [
    "per1.withdrawal(5000)"
   ]
  },
  {
   "cell_type": "markdown",
   "metadata": {},
   "source": [
    "11. Write a class that overrides the `__str__` and `__add__` magic methods. What will these methods allow\n",
    "you to do?"
   ]
  },
  {
   "cell_type": "markdown",
   "metadata": {},
   "source": [
    "In Python, the __str__ and __add__ magic methods allow you to define how an object of a class is represented as a string and how objects of that class can be added together, respectively."
   ]
  },
  {
   "cell_type": "code",
   "execution_count": 64,
   "metadata": {},
   "outputs": [],
   "source": [
    "class Vector:\n",
    "    def __init__(self, x, y):\n",
    "        self.x = x\n",
    "        self.y = y\n",
    "\n",
    "    # Overriding the __str__ method for string representation\n",
    "    def __str__(self):\n",
    "        return f\"Vector({self.x}, {self.y})\"\n",
    "\n",
    "    # Overriding the __add__ method for adding two vectors\n",
    "    def __add__(self, other):\n",
    "        if isinstance(other, Vector):\n",
    "            return Vector(self.x + other.x, self.y + other.y)\n",
    "        return NotImplemented  # Return NotImplemented if adding is not supported\n",
    "\n"
   ]
  },
  {
   "cell_type": "code",
   "execution_count": 65,
   "metadata": {},
   "outputs": [
    {
     "name": "stdout",
     "output_type": "stream",
     "text": [
      "Vector(2, 3)\n",
      "Vector(4, 5)\n",
      "Vector(6, 8)\n"
     ]
    }
   ],
   "source": [
    "vector1 = Vector(2, 3)\n",
    "vector2 = Vector(4, 5)\n",
    "\n",
    "# String representation\n",
    "print(vector1)  \n",
    "print(vector2)  \n",
    "\n",
    "# Adding two vectors\n",
    "result_vector = vector1 + vector2\n",
    "print(result_vector) "
   ]
  },
  {
   "cell_type": "markdown",
   "metadata": {},
   "source": [
    "12. Create a decorator that measures and prints the execution time of a function."
   ]
  },
  {
   "cell_type": "code",
   "execution_count": 9,
   "metadata": {},
   "outputs": [],
   "source": [
    "import time\n",
    "def timeDecorator(func):\n",
    "    def timer():\n",
    "        start = time.time()\n",
    "        func()\n",
    "        end = time.time()\n",
    "        print(\"\\nExecution time of a function: \",(end-start))\n",
    "    return timer"
   ]
  },
  {
   "cell_type": "code",
   "execution_count": 10,
   "metadata": {},
   "outputs": [],
   "source": [
    "@timeDecorator\n",
    "def func_test():\n",
    "    for i in range(100):\n",
    "        print(i,end=\" \")\n"
   ]
  },
  {
   "cell_type": "code",
   "execution_count": 11,
   "metadata": {},
   "outputs": [
    {
     "name": "stdout",
     "output_type": "stream",
     "text": [
      "0 1 2 3 4 5 6 7 8 9 10 11 12 13 14 15 16 17 18 19 20 21 22 23 24 25 26 27 28 29 30 31 32 33 34 35 36 37 38 39 40 41 42 43 44 45 46 47 48 49 50 51 52 53 54 55 56 57 58 59 60 61 62 63 64 65 66 67 68 69 70 71 72 73 74 75 76 77 78 79 80 81 82 83 84 85 86 87 88 89 90 91 92 93 94 95 96 97 98 99 \n",
      "Execution time of a function:  0.00673222541809082\n"
     ]
    }
   ],
   "source": [
    "func_test()"
   ]
  },
  {
   "cell_type": "markdown",
   "metadata": {},
   "source": [
    "13. Explain the concept of the Diamond Problem in multiple inheritance. How does Python resolve it?"
   ]
  },
  {
   "cell_type": "markdown",
   "metadata": {},
   "source": [
    "The Diamond Problem in multiple inheritance arises when a class inherits from two classes that both inherit from a single base class. In this scenario, if each of the intermediate classes has overridden a method from the base class, ambiguity can occur regarding which method should be inherited by the final subclass. This issue is called the Diamond Problem because the inheritance diagram resembles a diamond shape. The problem is common in languages that support multiple inheritance, such as C++ and Python. When calling a method in the derived class, it may be unclear whether to use the version from the left or right intermediate class, which can lead to inconsistencies.\n",
    "\n",
    "Python resolves the Diamond Problem using the Method Resolution Order (MRO), which determines the sequence in which classes are checked when a method is called. Python's MRO uses the C3 linearization algorithm, ensuring a consistent order by looking up classes from left to right, following the inheritance hierarchy without visiting any class more than once. This order can be accessed with the __mro__ attribute or the mro() method on a class. The MRO provides a clear path for method resolution, removing ambiguity and preventing the issues that arise from the Diamond Problem in multiple inheritance."
   ]
  },
  {
   "cell_type": "markdown",
   "metadata": {},
   "source": [
    "14. Write a class method that keeps track of the number of instances created from a class."
   ]
  },
  {
   "cell_type": "code",
   "execution_count": 12,
   "metadata": {},
   "outputs": [
    {
     "name": "stdout",
     "output_type": "stream",
     "text": [
      "3\n"
     ]
    }
   ],
   "source": [
    "class InstanceCounter:\n",
    "    instance_count = 0\n",
    "    def __init__(self):\n",
    "        InstanceCounter.instance_count += 1\n",
    "\n",
    "    @classmethod\n",
    "    def get_instance_count(cls):\n",
    "        return cls.instance_count\n",
    "\n",
    "obj1 = InstanceCounter()\n",
    "obj2 = InstanceCounter()\n",
    "obj3 = InstanceCounter()\n",
    "\n",
    "print(InstanceCounter.get_instance_count())  \n"
   ]
  },
  {
   "cell_type": "markdown",
   "metadata": {},
   "source": [
    "15. Implement a static method in a class that checks if a given year is a leap year."
   ]
  },
  {
   "cell_type": "code",
   "execution_count": 13,
   "metadata": {},
   "outputs": [],
   "source": [
    "class LeapYear:\n",
    "    @staticmethod\n",
    "    def leap(year):\n",
    "        if (year % 4 == 0 and year % 100 != 0) or (year % 400 == 0):\n",
    "            print(\"given Year is leap year\")\n",
    "        else:\n",
    "            print(\"given Year is not leap year\")"
   ]
  },
  {
   "cell_type": "code",
   "execution_count": 14,
   "metadata": {},
   "outputs": [
    {
     "name": "stdout",
     "output_type": "stream",
     "text": [
      "Year is leap year\n"
     ]
    }
   ],
   "source": [
    "LeapYear.leap(2024)"
   ]
  }
 ],
 "metadata": {
  "kernelspec": {
   "display_name": "Python 3",
   "language": "python",
   "name": "python3"
  },
  "language_info": {
   "codemirror_mode": {
    "name": "ipython",
    "version": 3
   },
   "file_extension": ".py",
   "mimetype": "text/x-python",
   "name": "python",
   "nbconvert_exporter": "python",
   "pygments_lexer": "ipython3",
   "version": "3.12.1"
  }
 },
 "nbformat": 4,
 "nbformat_minor": 2
}
