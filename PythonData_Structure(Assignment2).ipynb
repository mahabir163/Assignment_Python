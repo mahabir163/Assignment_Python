{
  "nbformat": 4,
  "nbformat_minor": 0,
  "metadata": {
    "colab": {
      "provenance": []
    },
    "kernelspec": {
      "name": "python3",
      "display_name": "Python 3"
    },
    "language_info": {
      "name": "python"
    }
  },
  "cells": [
    {
      "cell_type": "markdown",
      "source": [
        "**Q.1. Discuss string slicing and provide examples.**"
      ],
      "metadata": {
        "id": "J6t0eYdYtXfo"
      }
    },
    {
      "cell_type": "markdown",
      "source": [
        "**ANS:** String slicing is a method in Python (and many other programming languages) that allows you to extract parts of a string by specifying the start and end indices. It’s a way of creating a substring from the main string."
      ],
      "metadata": {
        "id": "MLCfu7_1t3Uf"
      }
    },
    {
      "cell_type": "code",
      "source": [
        "text = \"Hello,World!\"\n",
        "print(text[0:5])  # with start and stop index....exclude 5th index and by default step = 1"
      ],
      "metadata": {
        "colab": {
          "base_uri": "https://localhost:8080/"
        },
        "id": "_eFOATHKuDtX",
        "outputId": "3f2de5ac-d27a-412d-96a2-894078b27dc5"
      },
      "execution_count": 1,
      "outputs": [
        {
          "output_type": "stream",
          "name": "stdout",
          "text": [
            "Hello\n"
          ]
        }
      ]
    },
    {
      "cell_type": "code",
      "source": [
        "text = \"Hello,World!\"\n",
        "print(text[:5])   # Without start index, by default start index is 0 and by default step = 1\n",
        "print(text[7:])   # without stop index,by default stop index = last index + 1 and by default step = 1"
      ],
      "metadata": {
        "colab": {
          "base_uri": "https://localhost:8080/"
        },
        "id": "Ltzsgfe5ubr2",
        "outputId": "18aea25f-1ec6-4386-8c21-808c60a418c9"
      },
      "execution_count": 3,
      "outputs": [
        {
          "output_type": "stream",
          "name": "stdout",
          "text": [
            "Hello\n",
            "orld!\n"
          ]
        }
      ]
    },
    {
      "cell_type": "code",
      "source": [
        "text = \"Hello, World!\"\n",
        "print(text[-6:])  # with negative index         d = -1 index, l = -2 index, r=-3 index and so one....\n",
        "                  # here in this case -6 index = \"w\" and by default stop index = last index + 1 and by default step = 1"
      ],
      "metadata": {
        "colab": {
          "base_uri": "https://localhost:8080/"
        },
        "id": "2HNQPnaIu-dJ",
        "outputId": "0906b5f9-7a49-4d0a-e8cb-5303c8f7b902"
      },
      "execution_count": 5,
      "outputs": [
        {
          "output_type": "stream",
          "name": "stdout",
          "text": [
            "World!\n"
          ]
        }
      ]
    },
    {
      "cell_type": "code",
      "source": [
        "text = \"Hello, World!\"\n",
        "print(text[::2])  # with step"
      ],
      "metadata": {
        "colab": {
          "base_uri": "https://localhost:8080/"
        },
        "id": "wbasYtwSv55L",
        "outputId": "80483355-ebd4-4eb0-a0b2-e9ed0ef7c777"
      },
      "execution_count": 6,
      "outputs": [
        {
          "output_type": "stream",
          "name": "stdout",
          "text": [
            "Hlo ol!\n"
          ]
        }
      ]
    },
    {
      "cell_type": "code",
      "source": [
        "text = \"Hello, World!\"\n",
        "print(text[::-1])  #Reversing a String"
      ],
      "metadata": {
        "colab": {
          "base_uri": "https://localhost:8080/"
        },
        "id": "JPWFOQYTwFeL",
        "outputId": "84b9bb2b-cea7-44f7-888d-674457ce748f"
      },
      "execution_count": 7,
      "outputs": [
        {
          "output_type": "stream",
          "name": "stdout",
          "text": [
            "!dlroW ,olleH\n"
          ]
        }
      ]
    },
    {
      "cell_type": "markdown",
      "source": [
        "**Q.2.Explain the key features of lists in Python**"
      ],
      "metadata": {
        "id": "VByLdzd7tu70"
      }
    },
    {
      "cell_type": "markdown",
      "source": [
        "**ANS:**\n",
        "\n",
        "*   Ordered collection: Elements are stored and accessed by index.\n",
        "*   Mutable: Can modify, add, or remove elements after creation.\n",
        "\n",
        "\n",
        "*   Can contain different data types: Allows heterogeneous elements like integers, strings, and other lists.\n",
        "*   Dynamic size: Lists can grow or shrink as elements are added or removed.\n",
        "\n",
        "\n",
        "*   Indexing and slicing: Supports accessing elements via positive/negative indices and extracting subsets.\n",
        "*   Built-in methods: Includes methods like append(), remove(), sort(), and len() for easy manipulation.\n",
        "\n",
        "\n",
        "\n",
        "\n",
        "\n"
      ],
      "metadata": {
        "id": "1XG3zL1CtrLN"
      }
    },
    {
      "cell_type": "code",
      "source": [
        "#ordered collection\n",
        "list1 = [\"a\",\"b\",\"c\"]\n",
        "list1[0]"
      ],
      "metadata": {
        "colab": {
          "base_uri": "https://localhost:8080/",
          "height": 35
        },
        "id": "CgUmjYxDxKcj",
        "outputId": "2d579399-c71f-4f05-ac49-12744459de76"
      },
      "execution_count": 8,
      "outputs": [
        {
          "output_type": "execute_result",
          "data": {
            "text/plain": [
              "'a'"
            ],
            "application/vnd.google.colaboratory.intrinsic+json": {
              "type": "string"
            }
          },
          "metadata": {},
          "execution_count": 8
        }
      ]
    },
    {
      "cell_type": "code",
      "source": [
        "#Mutable\n",
        "list1 = [\"a\",\"b\",\"c\"]\n",
        "list1[1] = \"z\"\n",
        "list1"
      ],
      "metadata": {
        "colab": {
          "base_uri": "https://localhost:8080/"
        },
        "id": "65lEoS0vxbjc",
        "outputId": "fbc8a120-eb68-4d72-c45e-ec78b8755728"
      },
      "execution_count": 9,
      "outputs": [
        {
          "output_type": "execute_result",
          "data": {
            "text/plain": [
              "['a', 'z', 'c']"
            ]
          },
          "metadata": {},
          "execution_count": 9
        }
      ]
    },
    {
      "cell_type": "code",
      "source": [
        "#Can contain different data types\n",
        "list1 = [\"a\",\"b\",\"c\",1,1+2j,True]\n",
        "list1\n"
      ],
      "metadata": {
        "colab": {
          "base_uri": "https://localhost:8080/"
        },
        "id": "4zTT7q6rxpwl",
        "outputId": "07b47eff-5ace-431a-ebbf-8c33908833f8"
      },
      "execution_count": 10,
      "outputs": [
        {
          "output_type": "execute_result",
          "data": {
            "text/plain": [
              "['a', 'b', 'c', 1, (1+2j), True]"
            ]
          },
          "metadata": {},
          "execution_count": 10
        }
      ]
    },
    {
      "cell_type": "code",
      "source": [
        "#Dynamic size\n",
        "list1 = [\"a\",\"b\",\"c\"]\n",
        "list1.append(\"d\")\n",
        "list1"
      ],
      "metadata": {
        "colab": {
          "base_uri": "https://localhost:8080/"
        },
        "id": "Fam6OutPx0J-",
        "outputId": "8c765e91-a042-498b-e23f-61b26d69b672"
      },
      "execution_count": 11,
      "outputs": [
        {
          "output_type": "execute_result",
          "data": {
            "text/plain": [
              "['a', 'b', 'c', 'd']"
            ]
          },
          "metadata": {},
          "execution_count": 11
        }
      ]
    },
    {
      "cell_type": "code",
      "source": [
        "#Indexing and slicing\n",
        "list1 = [\"a\",\"b\",\"c\"]\n",
        "print(list1[0:2])\n",
        "print(list1[-2:])"
      ],
      "metadata": {
        "colab": {
          "base_uri": "https://localhost:8080/"
        },
        "id": "5ytvHq8Wx6VE",
        "outputId": "3667c064-75e3-4134-931f-a02f3e108e16"
      },
      "execution_count": 12,
      "outputs": [
        {
          "output_type": "stream",
          "name": "stdout",
          "text": [
            "['a', 'b']\n",
            "['b', 'c']\n"
          ]
        }
      ]
    },
    {
      "cell_type": "code",
      "source": [
        "#Built-in methods\n",
        "list1 = [\"a\",\"b\",\"c\"]\n",
        "print(len(list1))    #bulit in len function\n",
        "removed_element = list1.pop()    ##bulit in pop function etc...\n",
        "print(removed_element)\n",
        "list1"
      ],
      "metadata": {
        "colab": {
          "base_uri": "https://localhost:8080/"
        },
        "id": "Qr57Rz_jyF98",
        "outputId": "93cc362f-c5ce-44a6-d107-a2571ff2b409"
      },
      "execution_count": 13,
      "outputs": [
        {
          "output_type": "stream",
          "name": "stdout",
          "text": [
            "c\n"
          ]
        },
        {
          "output_type": "execute_result",
          "data": {
            "text/plain": [
              "['a', 'b']"
            ]
          },
          "metadata": {},
          "execution_count": 13
        }
      ]
    },
    {
      "cell_type": "markdown",
      "source": [
        "**Q.3.Describe how to access, modify, and delete elements in a list with examples:**"
      ],
      "metadata": {
        "id": "nB_WWM_8ygjW"
      }
    },
    {
      "cell_type": "code",
      "source": [
        "#Access\n",
        "#You can access elements in a list using their index. The first element starts at index 0.\n",
        "\n",
        "#example\n",
        "fruits = [\"apple\", \"banana\", \"cherry\"]\n",
        "print(fruits[0])   # apple\n",
        "print(fruits[-1])  # cherry (negative index for last element)"
      ],
      "metadata": {
        "colab": {
          "base_uri": "https://localhost:8080/"
        },
        "id": "gBvt3EJjyxBs",
        "outputId": "3b65f254-4222-4542-8c04-295c665fcede"
      },
      "execution_count": 14,
      "outputs": [
        {
          "output_type": "stream",
          "name": "stdout",
          "text": [
            "apple\n",
            "cherry\n"
          ]
        }
      ]
    },
    {
      "cell_type": "code",
      "source": [
        "#Modify\n",
        "#Lists are mutable, so you can change the value of any element by assigning a new value to its index.\n",
        "\n",
        "#example\n",
        "fruits = [\"apple\", \"banana\", \"cherry\"]\n",
        "fruits[1] = \"blueberry\"\n",
        "print(fruits)"
      ],
      "metadata": {
        "colab": {
          "base_uri": "https://localhost:8080/"
        },
        "id": "1ct5oMbqzET7",
        "outputId": "6accee90-0d0f-44fa-9bbf-5d5e91132387"
      },
      "execution_count": 15,
      "outputs": [
        {
          "output_type": "stream",
          "name": "stdout",
          "text": [
            "['apple', 'blueberry', 'cherry']\n"
          ]
        }
      ]
    },
    {
      "cell_type": "code",
      "source": [
        "#Delete\n",
        "\n",
        "#Using del: You can remove an element by its index using the del statement.\n",
        "fruits1 = [\"apple\", \"banana\", \"cherry\"]\n",
        "del fruits1[1]\n",
        "print(fruits1)\n",
        "\n",
        "#using pop\n",
        "fruits2 = [\"apple\", \"banana\", \"cherry\"]\n",
        "popped = fruits2.pop(1)   #remove index no 1's element\n",
        "print(fruits2)\n",
        "\n",
        "\n",
        "#using remove\n",
        "fruits3 = [\"apple\", \"banana\", \"cherry\"]\n",
        "fruits3.remove(\"cherry\")\n",
        "print(fruits3)"
      ],
      "metadata": {
        "colab": {
          "base_uri": "https://localhost:8080/"
        },
        "id": "K0u4eJqlzT4E",
        "outputId": "7c0feeec-160d-4d00-bf6e-cb8e30679e2c"
      },
      "execution_count": 18,
      "outputs": [
        {
          "output_type": "stream",
          "name": "stdout",
          "text": [
            "['apple', 'cherry']\n",
            "['apple', 'cherry']\n",
            "['apple', 'banana']\n"
          ]
        }
      ]
    },
    {
      "cell_type": "markdown",
      "source": [
        "**Q.4.Compare and contrast tuples and lists with examples:**"
      ],
      "metadata": {
        "id": "GxqVtGwpzSiT"
      }
    },
    {
      "cell_type": "markdown",
      "source": [
        "**Mutability:**\n",
        "Lists: Mutable; elements can be changed, added, or removed.\n",
        "Tuples: Immutable; elements cannot be changed or removed once created.\n",
        "\n",
        "**Syntax:**\n",
        "Lists: Defined using square brackets [].\n",
        "Tuples: Defined using parentheses ().\n",
        "\n",
        "**Performance:**\n",
        "Lists: Generally slower due to mutability.\n",
        "Tuples: Generally faster because they are immutable.\n",
        "\n",
        "**Use Cases:**\n",
        "Lists: Used for collections of items that may change.\n",
        "Tuples: Used for collections of items that should remain constant.\n",
        "\n",
        "**Memory Consumption:**\n",
        "Lists: Require more memory due to overhead of mutability.\n",
        "Tuples: Require less memory since they are immutable.\n",
        "\n",
        "**Methods:**\n",
        "Lists: More built-in methods available (e.g., append(), remove(), sort()).\n",
        "Tuples: Fewer methods available (e.g., count(), index()).\n",
        "\n",
        "**Iteration:**\n",
        "Lists: Can be iterated through similarly to tuples.\n",
        "Tuples: Can also be iterated through similarly to lists.\n",
        "\n",
        "**Heterogeneous Elements:**\n",
        "Lists: Can contain elements of different data types.\n",
        "Tuples: Can also contain elements of different data types."
      ],
      "metadata": {
        "id": "eoYbVOmn0dEH"
      }
    },
    {
      "cell_type": "code",
      "source": [
        "#List\n",
        "fruits = [\"apple\", \"banana\", \"cherry\"]   #syntax []\n",
        "fruits[1] = \"blueberry\"                  #Mutable\n",
        "fruits.append(\"orange\")                  #Memory Consumption\n",
        "print(fruits)\n"
      ],
      "metadata": {
        "colab": {
          "base_uri": "https://localhost:8080/"
        },
        "id": "Wd6-MzgS1Njy",
        "outputId": "c718779f-c678-43b1-b445-5efe7d195c0b"
      },
      "execution_count": 19,
      "outputs": [
        {
          "output_type": "stream",
          "name": "stdout",
          "text": [
            "['apple', 'blueberry', 'cherry', 'orange']\n"
          ]
        }
      ]
    },
    {
      "cell_type": "code",
      "source": [
        "colors = (\"red\", \"green\", \"blue\")\n",
        "print(colors[1])                      #Syntax ()\n",
        "colors[1] = \"Black\"                    #give error due to Immutablity\n"
      ],
      "metadata": {
        "id": "9kpvI3qm1rOa"
      },
      "execution_count": null,
      "outputs": []
    },
    {
      "cell_type": "markdown",
      "source": [
        "**Q.5.Describe the key features of sets and provide examples of their use:**"
      ],
      "metadata": {
        "id": "Oz13ABJS0LkL"
      }
    },
    {
      "cell_type": "markdown",
      "source": [
        "**ANS:**\n",
        "**Unordered Collection:**\n",
        "Sets do not maintain any specific order of elements.\n",
        "**Unique Elements:**\n",
        "Sets automatically eliminate duplicate values, ensuring that all elements are unique.\n",
        "**Mutable:**\n",
        "Sets are mutable, meaning you can add or remove elements after creation.\n",
        "**Dynamic Size:**\n",
        "The size of a set can change as elements are added or removed.\n",
        "**No Indexing:**\n",
        "Unlike lists and tuples, sets do not support indexing or slicing since they are unordered.\n",
        "**Built-in Methods:**\n",
        "Sets come with various built-in methods for operations like union, intersection, and difference."
      ],
      "metadata": {
        "id": "3kajyv_52lai"
      }
    },
    {
      "cell_type": "code",
      "source": [
        "#Creating a Set:\n",
        "fruits = {\"apple\", \"banana\", \"cherry\"}\n",
        "print(fruits)"
      ],
      "metadata": {
        "colab": {
          "base_uri": "https://localhost:8080/"
        },
        "id": "26Ih9wR83Vyy",
        "outputId": "c9c04879-b3a2-482d-cdce-cfc7aa74f942"
      },
      "execution_count": 21,
      "outputs": [
        {
          "output_type": "stream",
          "name": "stdout",
          "text": [
            "{'apple', 'banana', 'cherry'}\n"
          ]
        }
      ]
    },
    {
      "cell_type": "code",
      "source": [
        "#Adding Elements:\n",
        "fruits.add(\"orange\")\n",
        "print(fruits)"
      ],
      "metadata": {
        "colab": {
          "base_uri": "https://localhost:8080/"
        },
        "id": "ZrGtE6zM3gnX",
        "outputId": "88401212-8db9-410c-d220-63fdba21111a"
      },
      "execution_count": 22,
      "outputs": [
        {
          "output_type": "stream",
          "name": "stdout",
          "text": [
            "{'orange', 'apple', 'banana', 'cherry'}\n"
          ]
        }
      ]
    },
    {
      "cell_type": "code",
      "source": [
        "#Removing Elements:\n",
        "fruits.remove(\"banana\")\n",
        "print(fruits)  # Output: {'cherry', 'apple', 'orange'}"
      ],
      "metadata": {
        "colab": {
          "base_uri": "https://localhost:8080/"
        },
        "id": "HMrx7pCX3oEP",
        "outputId": "2b2b52be-1cc1-482a-ade3-36b1efaa8c9c"
      },
      "execution_count": 23,
      "outputs": [
        {
          "output_type": "stream",
          "name": "stdout",
          "text": [
            "{'orange', 'apple', 'cherry'}\n"
          ]
        }
      ]
    },
    {
      "cell_type": "code",
      "source": [
        "#Set Operations:\n",
        "\n",
        "#Union:\n",
        "set_a = {1, 2, 3}\n",
        "set_b = {3, 4, 5}\n",
        "union_set = set_a | set_b\n",
        "print(union_set)\n",
        "\n",
        "#Difference:\n",
        "difference_set = set_a - set_b\n",
        "print(difference_set)\n",
        "\n",
        "#Intersection:\n",
        "intersection_set = set_a & set_b\n",
        "print(intersection_set)"
      ],
      "metadata": {
        "colab": {
          "base_uri": "https://localhost:8080/"
        },
        "id": "4mcMzDbG3tDw",
        "outputId": "46f14acb-9fbf-48ca-fe5e-299bbf10359e"
      },
      "execution_count": 25,
      "outputs": [
        {
          "output_type": "stream",
          "name": "stdout",
          "text": [
            "{1, 2, 3, 4, 5}\n",
            "{1, 2}\n",
            "{3}\n"
          ]
        }
      ]
    },
    {
      "cell_type": "markdown",
      "source": [
        "**Q.6.Discuss the use cases of tuples and sets in Python programming:**"
      ],
      "metadata": {
        "id": "9Yov3jzD2Omz"
      }
    },
    {
      "cell_type": "code",
      "source": [
        "#Tuples\n",
        "\n",
        "#Immutable Data Storage:\n",
        "#Tuples are ideal for storing data that should not change, such as coordinates, RGB color values, or fixed configurations.\n",
        "coordinates = (10.0, 20.0)  # Represents a point in 2D space\n",
        "\n",
        "#Returning Multiple Values from Functions:\n",
        "#Functions can return multiple values as a tuple, allowing related data to be returned without the need for a more complex structure.\n",
        "def get_person_info():\n",
        "    return (\"Alice\", 30)\n",
        "get_person_info()"
      ],
      "metadata": {
        "colab": {
          "base_uri": "https://localhost:8080/"
        },
        "id": "7BtJXnY54lBr",
        "outputId": "68f9783d-a5ec-44a9-9313-013d398182ae"
      },
      "execution_count": 27,
      "outputs": [
        {
          "output_type": "execute_result",
          "data": {
            "text/plain": [
              "('Alice', 30)"
            ]
          },
          "metadata": {},
          "execution_count": 27
        }
      ]
    },
    {
      "cell_type": "code",
      "source": [
        "#Sets\n",
        "\n",
        "#Unique Item Storage:\n",
        "#Sets are perfect for storing unique items, automatically handling duplicate values. This is useful for situations like keeping track of unique user IDs, emails, or any other identifiers.\n",
        "unique_ids = {1, 2, 3, 2, 1}\n",
        "print(unique_ids)\n",
        "\n",
        "#Set Operations:\n",
        "#Sets support mathematical operations like union, intersection, and difference, making them ideal for scenarios requiring comparisons or combinations of groups.\n",
        "set_a = {1, 2, 3}\n",
        "set_b = {3, 4, 5}\n",
        "union_set = set_a | set_b\n",
        "intersection_set = set_a & set_b\n",
        "print(union_set)\n",
        "print(intersection_set)\n",
        "\n",
        "#Removing Duplicates:\n",
        "#Sets can be used to easily remove duplicates from a list or another iterable, simplifying data cleaning processes.\n",
        "numbers = [1, 2, 2, 3, 4, 4]\n",
        "unique_numbers = set(numbers)\n",
        "print(unique_numbers)"
      ],
      "metadata": {
        "colab": {
          "base_uri": "https://localhost:8080/"
        },
        "id": "SMxZiBbS5G5a",
        "outputId": "7f2a126a-0d03-41be-9f2d-559bcd1072c6"
      },
      "execution_count": 31,
      "outputs": [
        {
          "output_type": "stream",
          "name": "stdout",
          "text": [
            "{1, 2, 3}\n",
            "{1, 2, 3, 4, 5}\n",
            "{3}\n",
            "{1, 2, 3, 4}\n"
          ]
        }
      ]
    },
    {
      "cell_type": "markdown",
      "source": [
        "**Q.7.Describe how to add, modify, and delete items in a dictionary with examples:**"
      ],
      "metadata": {
        "id": "OncTt3GG0fJO"
      }
    },
    {
      "cell_type": "code",
      "source": [
        "# ADD\n",
        "\n",
        "#You can add new key-value pairs to a dictionary by assigning a value to a new key.\n",
        "# Creating a dictionary\n",
        "student = {\"name\": \"Alice\", \"age\": 20}\n",
        "# Adding a new key-value pair\n",
        "student[\"major\"] = \"Computer Science\"\n",
        "print(student)"
      ],
      "metadata": {
        "colab": {
          "base_uri": "https://localhost:8080/"
        },
        "id": "NlJoTDVt5_83",
        "outputId": "fcbb35fb-398d-47cd-a819-c6369e3a01b7"
      },
      "execution_count": 32,
      "outputs": [
        {
          "output_type": "stream",
          "name": "stdout",
          "text": [
            "{'name': 'Alice', 'age': 20, 'major': 'Computer Science'}\n"
          ]
        }
      ]
    },
    {
      "cell_type": "code",
      "source": [
        "#Modify\n",
        "#To modify the value of an existing key, simply assign a new value to that key.\n",
        "student = {\"name\": \"Alice\", \"age\": 20}\n",
        "student[\"age\"] = 21\n",
        "print(student)"
      ],
      "metadata": {
        "colab": {
          "base_uri": "https://localhost:8080/"
        },
        "id": "xT_Fqzpb6K1Z",
        "outputId": "2109449f-bbdf-4d43-9c55-2ae0ec6ab216"
      },
      "execution_count": 33,
      "outputs": [
        {
          "output_type": "stream",
          "name": "stdout",
          "text": [
            "{'name': 'Alice', 'age': 21}\n"
          ]
        }
      ]
    },
    {
      "cell_type": "code",
      "source": [
        "#delete\n",
        "#You can delete a key-value pair using the del statement or the pop() method.\n",
        "\n",
        "student1 = {\"name\": \"Alice\", \"age\": 20}\n",
        "del student1[\"age\"]    #using del\n",
        "print(student1)\n",
        "\n",
        "student = {\"name\": \"Alice\", \"age\": 20}\n",
        "age = student.pop(\"age\")     #using pop\n",
        "print(student)"
      ],
      "metadata": {
        "colab": {
          "base_uri": "https://localhost:8080/"
        },
        "id": "BuoxkmPS6YGH",
        "outputId": "386a4186-62ff-40b0-9968-ea9f1a80355b"
      },
      "execution_count": 36,
      "outputs": [
        {
          "output_type": "stream",
          "name": "stdout",
          "text": [
            "{'name': 'Alice'}\n",
            "{'name': 'Alice'}\n",
            "20\n"
          ]
        }
      ]
    },
    {
      "cell_type": "markdown",
      "source": [
        "**Q.8.Discuss the importance of dictionary keys being immutable and provide examples.**"
      ],
      "metadata": {
        "id": "evkd8SGU66mA"
      }
    },
    {
      "cell_type": "markdown",
      "source": [
        "**ANS:**\n",
        "**Data Integrity:**\n",
        "Prevents accidental modifications, maintaining consistency in the data.\n",
        "\n",
        "**Consistency in Hashing:**\n",
        "Ensures that hash values remain constant, allowing for reliable access to dictionary entries.\n",
        "\n",
        "**Efficient Lookups:**\n",
        "Enables optimized storage and faster data retrieval due to unchangeable keys.\n",
        "\n",
        "**Support for Hashable Types:**\n",
        "Only hashable types (like strings, numbers, and tuples) can be used as keys, promoting the use of simple data structures."
      ],
      "metadata": {
        "id": "AZzLfWxt7HDv"
      }
    },
    {
      "cell_type": "code",
      "source": [
        "#Using Strings as Keys:\n",
        "student = {\"name\": \"Alice\", \"age\": 20}\n",
        "\n",
        "#Using Tuples as Keys:\n",
        "coordinates = {(10, 20): \"Point A\", (30, 40): \"Point B\"}\n",
        "\n",
        "#Attempting to Use a Mutable Type:\n",
        "my_dict = {[1, 2]: \"value\"} # This raises a TypeError\n",
        "\n",
        "\n",
        "\n",
        "\n",
        "\n"
      ],
      "metadata": {
        "colab": {
          "base_uri": "https://localhost:8080/",
          "height": 211
        },
        "id": "-j4-jpLo7mIh",
        "outputId": "25ea273a-ddf0-4748-9c45-d655e562e37a"
      },
      "execution_count": 37,
      "outputs": [
        {
          "output_type": "error",
          "ename": "TypeError",
          "evalue": "unhashable type: 'list'",
          "traceback": [
            "\u001b[0;31m---------------------------------------------------------------------------\u001b[0m",
            "\u001b[0;31mTypeError\u001b[0m                                 Traceback (most recent call last)",
            "\u001b[0;32m<ipython-input-37-82d6c4341512>\u001b[0m in \u001b[0;36m<cell line: 8>\u001b[0;34m()\u001b[0m\n\u001b[1;32m      6\u001b[0m \u001b[0;34m\u001b[0m\u001b[0m\n\u001b[1;32m      7\u001b[0m \u001b[0;31m#Attempting to Use a Mutable Type:\u001b[0m\u001b[0;34m\u001b[0m\u001b[0;34m\u001b[0m\u001b[0m\n\u001b[0;32m----> 8\u001b[0;31m \u001b[0mmy_dict\u001b[0m \u001b[0;34m=\u001b[0m \u001b[0;34m{\u001b[0m\u001b[0;34m[\u001b[0m\u001b[0;36m1\u001b[0m\u001b[0;34m,\u001b[0m \u001b[0;36m2\u001b[0m\u001b[0;34m]\u001b[0m\u001b[0;34m:\u001b[0m \u001b[0;34m\"value\"\u001b[0m\u001b[0;34m}\u001b[0m \u001b[0;31m# This raises a TypeError\u001b[0m\u001b[0;34m\u001b[0m\u001b[0;34m\u001b[0m\u001b[0m\n\u001b[0m\u001b[1;32m      9\u001b[0m \u001b[0;34m\u001b[0m\u001b[0m\n\u001b[1;32m     10\u001b[0m \u001b[0;34m\u001b[0m\u001b[0m\n",
            "\u001b[0;31mTypeError\u001b[0m: unhashable type: 'list'"
          ]
        }
      ]
    }
  ]
}