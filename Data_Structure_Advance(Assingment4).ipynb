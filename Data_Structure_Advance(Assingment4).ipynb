{
 "cells": [
  {
   "cell_type": "markdown",
   "metadata": {},
   "source": [
    "1. Write a code to reverse a string"
   ]
  },
  {
   "cell_type": "code",
   "execution_count": 1,
   "metadata": {},
   "outputs": [],
   "source": [
    "s = \"Mahabir\""
   ]
  },
  {
   "cell_type": "code",
   "execution_count": 3,
   "metadata": {},
   "outputs": [
    {
     "data": {
      "text/plain": [
       "'ribahaM'"
      ]
     },
     "execution_count": 3,
     "metadata": {},
     "output_type": "execute_result"
    }
   ],
   "source": [
    "rev_str = s[::-1]\n",
    "rev_str"
   ]
  },
  {
   "cell_type": "markdown",
   "metadata": {},
   "source": [
    "2. write a code to count the number of vowels in a string"
   ]
  },
  {
   "cell_type": "code",
   "execution_count": 8,
   "metadata": {},
   "outputs": [
    {
     "name": "stdout",
     "output_type": "stream",
     "text": [
      "Number of vowels in a string is:  3\n"
     ]
    }
   ],
   "source": [
    "vowels = \"aeiouAEIOU\"\n",
    "s = \"Mahabir\"\n",
    "count = 0\n",
    "for i in s:\n",
    "    for j in vowels:\n",
    "        if i == j:\n",
    "            count = count + 1\n",
    "print(\"Number of vowels in a string is: \",count)\n"
   ]
  },
  {
   "cell_type": "markdown",
   "metadata": {},
   "source": [
    "3.Write a code to check if a given string is a palindrome or not"
   ]
  },
  {
   "cell_type": "code",
   "execution_count": 11,
   "metadata": {},
   "outputs": [
    {
     "name": "stdout",
     "output_type": "stream",
     "text": [
      "The given string is palindrome\n"
     ]
    }
   ],
   "source": [
    "x = \"MOM\"\n",
    "y = x[::-1]\n",
    "if x==y:\n",
    "    print(\"The given string is palindrome\")\n",
    "else:\n",
    "    print(\"The given string is not palindrome\")"
   ]
  },
  {
   "cell_type": "markdown",
   "metadata": {},
   "source": [
    "4.write a code to check if two given strings are anagrams of each other"
   ]
  },
  {
   "cell_type": "code",
   "execution_count": 16,
   "metadata": {},
   "outputs": [
    {
     "name": "stdout",
     "output_type": "stream",
     "text": [
      "two given strings are anagrams of each other\n"
     ]
    }
   ],
   "source": [
    "x = \"Earth\"\n",
    "y = \"Heart\"\n",
    "first_str = sorted(x.lower())\n",
    "sec_str = sorted(y.lower())\n",
    "if first_str == sec_str:\n",
    "    print(\"two given strings are anagrams of each other\")\n",
    "else:\n",
    "    print(\"two given strings are not anagrams of each other\")"
   ]
  },
  {
   "cell_type": "markdown",
   "metadata": {},
   "source": [
    "5.Write a code to find all occurrences of a given substring within another string"
   ]
  },
  {
   "cell_type": "code",
   "execution_count": 20,
   "metadata": {},
   "outputs": [
    {
     "name": "stdout",
     "output_type": "stream",
     "text": [
      "Sub string found at index no:  [0, 6, 10, 14]\n"
     ]
    }
   ],
   "source": [
    "string = \"abhisfabbhabhtab\"\n",
    "sub_str = \"ab\"\n",
    "res = []\n",
    "len1 = len(string)\n",
    "len2 = len(sub_str)\n",
    "is_true = True\n",
    "for i in range(len1-len2+1):\n",
    "    if string[i:i+len2] == sub_str:\n",
    "        res.append(i)\n",
    "        is_true = False\n",
    "if is_true == True:\n",
    "    print(\"Not found a sub-string in a given string\")\n",
    "elif is_true == False:\n",
    "    print(\"Sub string found at index no: \",res)\n"
   ]
  },
  {
   "cell_type": "markdown",
   "metadata": {},
   "source": [
    "6.Write a code to perform basic string compression using the counts of repeated characters"
   ]
  },
  {
   "cell_type": "code",
   "execution_count": 10,
   "metadata": {},
   "outputs": [
    {
     "data": {
      "text/plain": [
       "['a2', 'b3', 'c3', 'a3']"
      ]
     },
     "execution_count": 10,
     "metadata": {},
     "output_type": "execute_result"
    }
   ],
   "source": [
    "x = \"aabbbcccaaa\"\n",
    "res = []\n",
    "len1 = len(x)\n",
    "count = 1\n",
    "for i in range(1,len1):\n",
    "    if x[i] == x[i-1]:\n",
    "        count = count + 1\n",
    "    else:\n",
    "        res.append(x[i-1] +str(count))\n",
    "        count = 1\n",
    "res.append(x[-1] + str(count))\n",
    "res\n"
   ]
  },
  {
   "cell_type": "markdown",
   "metadata": {},
   "source": [
    "7.Write a code to determine if a string has all unique characters"
   ]
  },
  {
   "cell_type": "code",
   "execution_count": 17,
   "metadata": {},
   "outputs": [
    {
     "name": "stdout",
     "output_type": "stream",
     "text": [
      "The given string has all unique characters\n"
     ]
    }
   ],
   "source": [
    "string = \"Lsl\"\n",
    "sorted_string = sorted(string)    #sorted string...to easily compare with convert unique string\n",
    "uni = sorted(set(string))         #sorted string\n",
    "if sorted_string == uni:\n",
    "    print(\"The given string has all unique characters\")\n",
    "else:\n",
    "    print(\"The given string has not all unique characters\")"
   ]
  },
  {
   "cell_type": "markdown",
   "metadata": {},
   "source": [
    "8.write a code to convert a given string to uppercase or lowercase"
   ]
  },
  {
   "cell_type": "code",
   "execution_count": 20,
   "metadata": {},
   "outputs": [
    {
     "name": "stdout",
     "output_type": "stream",
     "text": [
      "mahabir\n",
      "MAHABIR\n"
     ]
    }
   ],
   "source": [
    "x = \"Mahabir\"\n",
    "l_case = x.lower()   #change to lower case\n",
    "u_case = x.upper()   #change to upper case\n",
    "print(l_case)\n",
    "print(u_case)"
   ]
  },
  {
   "cell_type": "markdown",
   "metadata": {},
   "source": [
    "9.Write a code to count the number of words in a string"
   ]
  },
  {
   "cell_type": "code",
   "execution_count": 21,
   "metadata": {},
   "outputs": [
    {
     "name": "stdout",
     "output_type": "stream",
     "text": [
      "Number of words in string:  7\n"
     ]
    }
   ],
   "source": [
    "x = \"Mahabir\"\n",
    "print(\"Number of words in string: \",len(x))"
   ]
  },
  {
   "cell_type": "markdown",
   "metadata": {},
   "source": [
    "10.Write a code to concatenate two strings without using the + operator"
   ]
  },
  {
   "cell_type": "code",
   "execution_count": 40,
   "metadata": {},
   "outputs": [
    {
     "name": "stdout",
     "output_type": "stream",
     "text": [
      "Mahabir Paul\n",
      "Mahabir Paul "
     ]
    }
   ],
   "source": [
    "x = \"Mahabir\"\n",
    "y = \"Paul\"\n",
    "print(x,y)\n",
    "#or\n",
    "res = [x,y]\n",
    "for i in res:\n",
    "    print(i,end=\" \")"
   ]
  },
  {
   "cell_type": "markdown",
   "metadata": {},
   "source": [
    "11. Write a code to remove all occurrences of a specific element from a list"
   ]
  },
  {
   "cell_type": "code",
   "execution_count": 42,
   "metadata": {},
   "outputs": [
    {
     "name": "stdout",
     "output_type": "stream",
     "text": [
      "[1, 5, 6, 9, 52, 1, 4, 3]\n"
     ]
    }
   ],
   "source": [
    "x = [1,5,6,9,52,1,4,2,3,2]\n",
    "remove_element = 2\n",
    "y = []\n",
    "for i in x:\n",
    "    if i == remove_element:\n",
    "        pass\n",
    "    else:\n",
    "        y.append(i)\n",
    "print(y)\n"
   ]
  },
  {
   "cell_type": "markdown",
   "metadata": {},
   "source": [
    "12.Implement a code to find the second largest number in a given list of integers"
   ]
  },
  {
   "cell_type": "code",
   "execution_count": 45,
   "metadata": {},
   "outputs": [
    {
     "data": {
      "text/plain": [
       "8"
      ]
     },
     "execution_count": 45,
     "metadata": {},
     "output_type": "execute_result"
    }
   ],
   "source": [
    "x = [5,6,9,8,5,4,1,2]\n",
    "unique = set(x)\n",
    "sorted_list = sorted(list(unique))\n",
    "sorted_list[-2]  #-1 => largest element and -2 => 2nd largest element for a only sorted list "
   ]
  },
  {
   "cell_type": "markdown",
   "metadata": {},
   "source": [
    "13.Create a code to count the occurrences of each element in a list and return a dictionary with elements as\n",
    "keys and their counts as values"
   ]
  },
  {
   "cell_type": "code",
   "execution_count": 3,
   "metadata": {},
   "outputs": [],
   "source": [
    "def count_element(list1):\n",
    "    \"\"\"This function return a dictionary with elements as keys and their counts as values\n",
    "    Args:\n",
    "        list1(list): Take random a numbers of list\n",
    "    Return:\n",
    "        return a dictionary  \"\"\"\n",
    "    uni = set(list1)\n",
    "    dic = {}\n",
    "    for i in uni:\n",
    "        count = list1.count(i)\n",
    "        dic[i] = count\n",
    "    return dic"
   ]
  },
  {
   "cell_type": "code",
   "execution_count": 4,
   "metadata": {},
   "outputs": [
    {
     "data": {
      "text/plain": [
       "{1: 4, 5: 1, 6: 3}"
      ]
     },
     "execution_count": 4,
     "metadata": {},
     "output_type": "execute_result"
    }
   ],
   "source": [
    "count_element([1,5,6,1,6,1,1,6])"
   ]
  },
  {
   "cell_type": "markdown",
   "metadata": {},
   "source": [
    "14.Write a code to reverse a list in-place without using any built-in reverse functions"
   ]
  },
  {
   "cell_type": "code",
   "execution_count": 6,
   "metadata": {},
   "outputs": [
    {
     "data": {
      "text/plain": [
       "[1, 2, 9, 6, 5]"
      ]
     },
     "execution_count": 6,
     "metadata": {},
     "output_type": "execute_result"
    }
   ],
   "source": [
    "x = [5,6,9,2,1]\n",
    "i = 0\n",
    "j = len(x)-1\n",
    "temp = 0\n",
    "while(i<j):\n",
    "    temp = x[i]\n",
    "    x[i] = x[j]\n",
    "    x[j] = temp\n",
    "    i = i+1\n",
    "    j = j-1\n",
    "x"
   ]
  },
  {
   "cell_type": "markdown",
   "metadata": {},
   "source": [
    "15.Implement a code to find and remove duplicates from a list while preserving the original order of elements"
   ]
  },
  {
   "cell_type": "code",
   "execution_count": 8,
   "metadata": {},
   "outputs": [],
   "source": [
    "def remove_duplicates(lst):\n",
    "    seen = set()\n",
    "    result = []\n",
    "    for item in lst:\n",
    "        if item not in seen:\n",
    "            result.append(item)\n",
    "            seen.add(item)\n",
    "    return result"
   ]
  },
  {
   "cell_type": "code",
   "execution_count": 9,
   "metadata": {},
   "outputs": [
    {
     "name": "stdout",
     "output_type": "stream",
     "text": [
      "[1, 2, 3, 4, 5]\n"
     ]
    }
   ],
   "source": [
    "my_list = [1, 2, 3, 2, 4, 1, 5]\n",
    "print(remove_duplicates(my_list))"
   ]
  },
  {
   "cell_type": "markdown",
   "metadata": {},
   "source": [
    "16.Create a code to check if a given list is sorted (either in ascending or descending order) or not"
   ]
  },
  {
   "cell_type": "code",
   "execution_count": 16,
   "metadata": {},
   "outputs": [],
   "source": [
    "def check_sorted(li):\n",
    "    \"\"\"This function return the given list is sorted or not\"\"\"\n",
    "    sor_list_asc = sorted(li)\n",
    "    sor_list_desc = sorted(li,reverse=True)\n",
    "\n",
    "    if sor_list_asc == li or sor_list_desc == li:\n",
    "        return \"The given list is sorted\"\n",
    "    else:\n",
    "        return \"The given list is not sorted\""
   ]
  },
  {
   "cell_type": "code",
   "execution_count": 17,
   "metadata": {},
   "outputs": [
    {
     "data": {
      "text/plain": [
       "'The given list is sorted'"
      ]
     },
     "execution_count": 17,
     "metadata": {},
     "output_type": "execute_result"
    }
   ],
   "source": [
    "check_sorted([9,6,4,3,1])"
   ]
  },
  {
   "cell_type": "markdown",
   "metadata": {},
   "source": [
    "17. Write a code to merge two sorted lists into a single sorted list"
   ]
  },
  {
   "cell_type": "code",
   "execution_count": 21,
   "metadata": {},
   "outputs": [],
   "source": [
    "def single_sorted_list(list1,list2):\n",
    "    \"\"\"\"This function return to merge two sorted lists into a single sorted list\n",
    "    Args:\n",
    "        list1(list): some numbers of a list\n",
    "    Return:\n",
    "        return to merge two sorted lists into a single sorted list \"\"\"\n",
    "    sorted_list = sorted(list1+list2)\n",
    "    return sorted_list"
   ]
  },
  {
   "cell_type": "code",
   "execution_count": 22,
   "metadata": {},
   "outputs": [
    {
     "data": {
      "text/plain": [
       "[1, 2, 5, 5, 6, 9]"
      ]
     },
     "execution_count": 22,
     "metadata": {},
     "output_type": "execute_result"
    }
   ],
   "source": [
    "single_sorted_list([5,6,9],[1,5,2])"
   ]
  },
  {
   "cell_type": "markdown",
   "metadata": {},
   "source": [
    "18. Implement a code to find the intersection of two given lists"
   ]
  },
  {
   "cell_type": "code",
   "execution_count": 24,
   "metadata": {},
   "outputs": [],
   "source": [
    "def intersection_using_sets(list1, list2):\n",
    "    \"\"\"Return intersection of two given list\"\"\"\n",
    "    return list(set(list1) & set(list2))"
   ]
  },
  {
   "cell_type": "code",
   "execution_count": 25,
   "metadata": {},
   "outputs": [
    {
     "name": "stdout",
     "output_type": "stream",
     "text": [
      "[4, 5]\n"
     ]
    }
   ],
   "source": [
    "list1 = [1, 2, 3, 4, 5]\n",
    "list2 = [4, 5, 6, 7, 8]\n",
    "result = intersection_using_sets(list1, list2)\n",
    "print(result)"
   ]
  },
  {
   "cell_type": "markdown",
   "metadata": {},
   "source": [
    "19. Create a code to find the union of two lists without duplicates"
   ]
  },
  {
   "cell_type": "code",
   "execution_count": 26,
   "metadata": {},
   "outputs": [],
   "source": [
    "def union_using_sets(list1, list2):\n",
    "    \"\"\"This function returns to find the union of two lists without duplicates\"\"\"\n",
    "    return list(set(list1) | set(list2))"
   ]
  },
  {
   "cell_type": "code",
   "execution_count": 27,
   "metadata": {},
   "outputs": [
    {
     "name": "stdout",
     "output_type": "stream",
     "text": [
      "[1, 2, 3, 4, 5, 6, 7, 8]\n"
     ]
    }
   ],
   "source": [
    "list1 = [1, 2, 3, 4, 5]\n",
    "list2 = [4, 5, 6, 7, 8]\n",
    "\n",
    "result = union_using_sets(list1, list2)\n",
    "print(result)"
   ]
  },
  {
   "cell_type": "markdown",
   "metadata": {},
   "source": [
    "20.Write a code to shuffle a given list randomly without using any built-in shuffle functions"
   ]
  },
  {
   "cell_type": "code",
   "execution_count": 28,
   "metadata": {},
   "outputs": [],
   "source": [
    "def pseudo_random(seed, modulus):\n",
    "    a = 1664525\n",
    "    c = 1013904223\n",
    "    return (a * seed + c) % modulus\n",
    "\n",
    "def custom_shuffle(lst):\n",
    "    n = len(lst)\n",
    "    seed = len(lst)\n",
    "    for i in range(n - 1, 0, -1):\n",
    "        seed = pseudo_random(seed, i + 1)\n",
    "        lst[i], lst[seed] = lst[seed], lst[i]\n"
   ]
  },
  {
   "cell_type": "code",
   "execution_count": 29,
   "metadata": {},
   "outputs": [
    {
     "name": "stdout",
     "output_type": "stream",
     "text": [
      "[1, 2, 6, 3, 7, 5, 4, 8]\n"
     ]
    }
   ],
   "source": [
    "my_list = [1, 2, 3, 4, 5, 6, 7, 8]\n",
    "custom_shuffle(my_list)\n",
    "print(my_list)"
   ]
  },
  {
   "cell_type": "markdown",
   "metadata": {},
   "source": [
    "21. Write a code that takes two tuples as input and returns a new tuple containing elements that are\n",
    "common to both input tuples"
   ]
  },
  {
   "cell_type": "code",
   "execution_count": 3,
   "metadata": {},
   "outputs": [],
   "source": [
    "def common_elements(tuple1, tuple2):\n",
    "    \"\"\"This functions returns common element of tuple of two input tuple\"\"\"\n",
    "    common = set(tuple1).intersection(set(tuple2))\n",
    "    return tuple(common)\n"
   ]
  },
  {
   "cell_type": "code",
   "execution_count": 2,
   "metadata": {},
   "outputs": [
    {
     "name": "stdout",
     "output_type": "stream",
     "text": [
      "(4, 5)\n"
     ]
    }
   ],
   "source": [
    "tuple1 = (1, 2, 3, 4, 5)\n",
    "tuple2 = (4, 5, 6, 7, 8)\n",
    "\n",
    "result = common_elements(tuple1, tuple2)\n",
    "print(result)"
   ]
  },
  {
   "cell_type": "markdown",
   "metadata": {},
   "source": [
    "22.Create a code that prompts the user to enter two sets of integers separated by commas. Then, print the\n",
    "intersection of these two sets"
   ]
  },
  {
   "cell_type": "code",
   "execution_count": 8,
   "metadata": {},
   "outputs": [
    {
     "data": {
      "text/plain": [
       "{'1'}"
      ]
     },
     "execution_count": 8,
     "metadata": {},
     "output_type": "execute_result"
    }
   ],
   "source": [
    "x = input(\"Enter numbers of set: \").split(\",\")\n",
    "y = input(\"Enter numbers of set: \").split(\",\")\n",
    "set1 = set(x)\n",
    "set2 = set(y)\n",
    "common = set1.intersection(set2)\n",
    "common"
   ]
  },
  {
   "cell_type": "markdown",
   "metadata": {},
   "source": [
    "23.Write a code to concatenate two tuples. The function should take two tuples as input and return a new\n",
    "tuple containing elements from both input tuples."
   ]
  },
  {
   "cell_type": "code",
   "execution_count": 9,
   "metadata": {},
   "outputs": [],
   "source": [
    "def concat_tuple(tup1,tup2):\n",
    "    \"\"\"This function return a tuple of concatenate of two tuples\"\"\"\n",
    "    res = (tup1 + tup2)\n",
    "    return res"
   ]
  },
  {
   "cell_type": "code",
   "execution_count": 10,
   "metadata": {},
   "outputs": [
    {
     "data": {
      "text/plain": [
       "(1, 2, 3, 5, 6, 9)"
      ]
     },
     "execution_count": 10,
     "metadata": {},
     "output_type": "execute_result"
    }
   ],
   "source": [
    "concat_tuple((1,2,3),(5,6,9))"
   ]
  },
  {
   "cell_type": "markdown",
   "metadata": {},
   "source": [
    "24. Develop a code that prompts the user to input two sets of strings. Then, print the elements that are\n",
    "present in the first set but not in the second set"
   ]
  },
  {
   "cell_type": "code",
   "execution_count": 11,
   "metadata": {},
   "outputs": [],
   "source": [
    "def difference_of_sets():\n",
    "    \"\"\"Prompt the user to input two sets of strings\"\"\"\n",
    "    set1 = set(input(\"Enter the elements of the first set (separated by spaces): \").split())\n",
    "    set2 = set(input(\"Enter the elements of the second set (separated by spaces): \").split())\n",
    "    difference = set1.difference(set2)\n",
    "    print(\"Elements present in the first set but not in the second set:\")\n",
    "    print(difference)\n"
   ]
  },
  {
   "cell_type": "code",
   "execution_count": 12,
   "metadata": {},
   "outputs": [
    {
     "name": "stdout",
     "output_type": "stream",
     "text": [
      "Elements present in the first set but not in the second set:\n",
      "{'Mahabir'}\n"
     ]
    }
   ],
   "source": [
    "difference_of_sets()"
   ]
  },
  {
   "cell_type": "markdown",
   "metadata": {},
   "source": [
    "25. Create a code that takes a tuple and two integers as input. The function should return a new tuple\n",
    "containing elements from the original tuple within the specified range of indices"
   ]
  },
  {
   "cell_type": "code",
   "execution_count": 14,
   "metadata": {},
   "outputs": [],
   "source": [
    "def slice_tuple(original_tuple, start_index, end_index):\n",
    "    \"\"\"This function Use slicing to get elements within the specified range\"\"\"\n",
    "    return original_tuple[start_index:end_index]\n"
   ]
  },
  {
   "cell_type": "code",
   "execution_count": 15,
   "metadata": {},
   "outputs": [
    {
     "name": "stdout",
     "output_type": "stream",
     "text": [
      "(30, 40, 50)\n"
     ]
    }
   ],
   "source": [
    "tuple1 = (10, 20, 30, 40, 50, 60, 70)\n",
    "start = 2\n",
    "end = 5\n",
    "\n",
    "result = slice_tuple(tuple1, start, end)\n",
    "print(result)"
   ]
  },
  {
   "cell_type": "markdown",
   "metadata": {},
   "source": [
    "26. Write a code that prompts the user to input two sets of characters. Then, print the union of these two sets&"
   ]
  },
  {
   "cell_type": "code",
   "execution_count": 16,
   "metadata": {},
   "outputs": [
    {
     "data": {
      "text/plain": [
       "{'#', '%', '&', '@', '^'}"
      ]
     },
     "execution_count": 16,
     "metadata": {},
     "output_type": "execute_result"
    }
   ],
   "source": [
    "x = {'#','%','&','@'}\n",
    "y = {'^','%','#'}\n",
    "uni = x.union(y)\n",
    "uni"
   ]
  },
  {
   "cell_type": "markdown",
   "metadata": {},
   "source": [
    "27.  Develop a code that takes a tuple of integers as input. The function should return the maximum and\n",
    "minimum values from the tuple using tuple unpacking&"
   ]
  },
  {
   "cell_type": "code",
   "execution_count": 21,
   "metadata": {},
   "outputs": [],
   "source": [
    "def max_min(tup1):\n",
    "    \"\"\"This function returns to maximum and minimum element of a tuple\"\"\"\n",
    "    maxi = max(tup1)\n",
    "    mini = min(tup1)\n",
    "    return maxi,mini"
   ]
  },
  {
   "cell_type": "code",
   "execution_count": 22,
   "metadata": {},
   "outputs": [
    {
     "data": {
      "text/plain": [
       "(10, 1)"
      ]
     },
     "execution_count": 22,
     "metadata": {},
     "output_type": "execute_result"
    }
   ],
   "source": [
    "max_min((5,3,2,9,10,1))"
   ]
  },
  {
   "cell_type": "markdown",
   "metadata": {},
   "source": [
    "28. Create a code that defines two sets of integers. Then, print the union, intersection, and difference of these\n",
    "two sets&"
   ]
  },
  {
   "cell_type": "code",
   "execution_count": 23,
   "metadata": {},
   "outputs": [
    {
     "name": "stdout",
     "output_type": "stream",
     "text": [
      "Union:  {1, 2, 5, 6, 8, 9}\n",
      "intersection {1, 2, 5, 6}\n",
      "Difference:  {9}\n"
     ]
    }
   ],
   "source": [
    "x = {1,5,6,9,2}\n",
    "y = {5,6,2,8,1}\n",
    "uni = x.union(y)\n",
    "inter = x.intersection(y)\n",
    "diff = x.difference(y)\n",
    "print(\"Union: \",uni)\n",
    "print(\"intersection\",inter)\n",
    "print(\"Difference: \",diff)"
   ]
  },
  {
   "cell_type": "markdown",
   "metadata": {},
   "source": [
    "29. Write a code that takes a tuple and an element as input. The function should return the count of\n",
    "occurrences of the given element in the tuple&"
   ]
  },
  {
   "cell_type": "code",
   "execution_count": 25,
   "metadata": {},
   "outputs": [],
   "source": [
    "def count_tuple(tup1,num):\n",
    "    \"\"\"This function returns count of occurrences of the given element\"\"\"\n",
    "    res = tup1.count(num)\n",
    "    return res"
   ]
  },
  {
   "cell_type": "code",
   "execution_count": 26,
   "metadata": {},
   "outputs": [
    {
     "data": {
      "text/plain": [
       "3"
      ]
     },
     "execution_count": 26,
     "metadata": {},
     "output_type": "execute_result"
    }
   ],
   "source": [
    "count_tuple((1,5,6,3,9,3,3),3)"
   ]
  },
  {
   "cell_type": "markdown",
   "metadata": {},
   "source": [
    "30. Develop a code that prompts the user to input two sets of strings. Then, print the symmetric difference of\n",
    "these two sets&"
   ]
  },
  {
   "cell_type": "code",
   "execution_count": 17,
   "metadata": {},
   "outputs": [
    {
     "data": {
      "text/plain": [
       "{'apple', 'cherry', 'grape', 'mango'}"
      ]
     },
     "execution_count": 17,
     "metadata": {},
     "output_type": "execute_result"
    }
   ],
   "source": [
    "set1 = {\"apple\", \"banana\", \"cherry\"}\n",
    "set2 = {\"banana\", \"grape\", \"mango\"}\n",
    "sym_diff = set1.symmetric_difference(set2)\n",
    "sym_diff"
   ]
  },
  {
   "cell_type": "markdown",
   "metadata": {},
   "source": [
    "31.Write a code that takes a list of words as input and returns a dictionary where the keys are unique words\n",
    "and the values are the frequencies of those words in the input list&"
   ]
  },
  {
   "cell_type": "code",
   "execution_count": 27,
   "metadata": {},
   "outputs": [],
   "source": [
    "def word_count(words):\n",
    "    \"\"\"Initialize an empty dictionary to store word frequencies\"\"\"\n",
    "    word_frequencies = {}\n",
    "    for word in words:\n",
    "        if word in word_frequencies:\n",
    "            word_frequencies[word] += 1\n",
    "        else:\n",
    "            word_frequencies[word] = 1\n",
    "    return word_frequencies\n"
   ]
  },
  {
   "cell_type": "code",
   "execution_count": 29,
   "metadata": {},
   "outputs": [
    {
     "name": "stdout",
     "output_type": "stream",
     "text": [
      "Word frequencies: {'Apple': 2, 'Bag': 1, 'cat': 1}\n"
     ]
    }
   ],
   "source": [
    "words = [\"Apple\",\"Bag\",\"Apple\",\"cat\"]\n",
    "result = word_count(words)\n",
    "print(\"Word frequencies:\", result)"
   ]
  },
  {
   "cell_type": "markdown",
   "metadata": {},
   "source": [
    "32.Write a code that takes two dictionaries as input and merges them into a single dictionary. If there are\n",
    "common keys, the values should be added together&"
   ]
  },
  {
   "cell_type": "code",
   "execution_count": 30,
   "metadata": {},
   "outputs": [],
   "source": [
    "def merge_dictionaries(dict1, dict2):\n",
    "    \"\"\"Create a new dictionary to store the merged result\"\"\"\n",
    "    merged_dict = dict1.copy()  \n",
    "    for key, value in dict2.items():\n",
    "        if key in merged_dict:\n",
    "            merged_dict[key] += value\n",
    "        else:\n",
    "            merged_dict[key] = value\n",
    "\n",
    "    return merged_dict"
   ]
  },
  {
   "cell_type": "code",
   "execution_count": 31,
   "metadata": {},
   "outputs": [
    {
     "name": "stdout",
     "output_type": "stream",
     "text": [
      "Merged dictionary: {'a': 10, 'b': 25, 'c': 45, 'd': 25}\n"
     ]
    }
   ],
   "source": [
    "dict1 = {'a': 10, 'b': 20, 'c': 30}\n",
    "dict2 = {'b': 5, 'c': 15, 'd': 25}\n",
    "\n",
    "result = merge_dictionaries(dict1, dict2)\n",
    "\n",
    "print(\"Merged dictionary:\", result)"
   ]
  },
  {
   "cell_type": "markdown",
   "metadata": {},
   "source": [
    "33. Write a code to access a value in a nested dictionary. The function should take the dictionary and a list of\n",
    "keys as input, and return the corresponding value. If any of the keys do not exist in the dictionary, the\n",
    "function should return None&"
   ]
  },
  {
   "cell_type": "code",
   "execution_count": 32,
   "metadata": {},
   "outputs": [
    {
     "name": "stdout",
     "output_type": "stream",
     "text": [
      "Value: 42\n"
     ]
    }
   ],
   "source": [
    "def get_nested_value(nested_dict, keys_list):\n",
    "    current_dict = nested_dict\n",
    "    \n",
    "    for key in keys_list:\n",
    "        if key in current_dict:\n",
    "            current_dict = current_dict[key] \n",
    "        else:\n",
    "            return None \n",
    "    \n",
    "    return current_dict  \n",
    "\n",
    "\n",
    "nested_dict = {\n",
    "    'a': {'b': {'c': 42}},\n",
    "    'x': {'y': 99}\n",
    "}\n",
    "\n",
    "keys_list = ['a', 'b', 'c']  \n",
    "result = get_nested_value(nested_dict, keys_list)\n",
    "\n",
    "print(\"Value:\", result)\n"
   ]
  },
  {
   "cell_type": "markdown",
   "metadata": {},
   "source": [
    "34.  Write a code that takes a dictionary as input and returns a sorted version of it based on the values. You\n",
    "can choose whether to sort in ascending or descending order&"
   ]
  },
  {
   "cell_type": "code",
   "execution_count": 33,
   "metadata": {},
   "outputs": [
    {
     "name": "stdout",
     "output_type": "stream",
     "text": [
      "Sorted in ascending order: {'date': 1, 'banana': 2, 'apple': 4, 'cherry': 5}\n",
      "Sorted in descending order: {'cherry': 5, 'apple': 4, 'banana': 2, 'date': 1}\n"
     ]
    }
   ],
   "source": [
    "def sort_dictionary_by_values(input_dict, ascending=True):\n",
    "    sorted_dict = dict(sorted(input_dict.items(), key=lambda item: item[1], reverse=not ascending))\n",
    "    return sorted_dict\n",
    "\n",
    "\n",
    "input_dict = {'apple': 4, 'banana': 2, 'cherry': 5, 'date': 1}\n",
    "\n",
    "\n",
    "sorted_asc = sort_dictionary_by_values(input_dict, ascending=True)\n",
    "print(\"Sorted in ascending order:\", sorted_asc)\n",
    "\n",
    "\n",
    "sorted_desc = sort_dictionary_by_values(input_dict, ascending=False)\n",
    "print(\"Sorted in descending order:\", sorted_desc)\n"
   ]
  },
  {
   "cell_type": "markdown",
   "metadata": {},
   "source": [
    "35. Write a code that inverts a dictionary, swapping keys and values. Ensure that the inverted dictionary\n",
    "correctly handles cases where multiple keys have the same value by storing the keys as a list in the\n",
    "inverted dictionary."
   ]
  },
  {
   "cell_type": "code",
   "execution_count": 34,
   "metadata": {},
   "outputs": [
    {
     "name": "stdout",
     "output_type": "stream",
     "text": [
      "Inverted dictionary: {1: ['a', 'c'], 2: ['b'], 3: ['d']}\n"
     ]
    }
   ],
   "source": [
    "def invert_dictionary(input_dict):\n",
    "    inverted_dict = {}\n",
    "    \n",
    "    for key, value in input_dict.items():\n",
    "        if value in inverted_dict:\n",
    "            inverted_dict[value].append(key)\n",
    "        else:\n",
    "            inverted_dict[value] = [key]\n",
    "    \n",
    "    return inverted_dict\n",
    "\n",
    "\n",
    "input_dict = {'a': 1, 'b': 2, 'c': 1, 'd': 3}\n",
    "\n",
    "\n",
    "inverted = invert_dictionary(input_dict)\n",
    "\n",
    "\n",
    "print(\"Inverted dictionary:\", inverted)\n"
   ]
  }
 ],
 "metadata": {
  "kernelspec": {
   "display_name": "Python 3",
   "language": "python",
   "name": "python3"
  },
  "language_info": {
   "codemirror_mode": {
    "name": "ipython",
    "version": 3
   },
   "file_extension": ".py",
   "mimetype": "text/x-python",
   "name": "python",
   "nbconvert_exporter": "python",
   "pygments_lexer": "ipython3",
   "version": "3.12.1"
  }
 },
 "nbformat": 4,
 "nbformat_minor": 2
}
