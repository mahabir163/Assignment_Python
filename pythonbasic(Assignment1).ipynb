{
  "nbformat": 4,
  "nbformat_minor": 0,
  "metadata": {
    "colab": {
      "provenance": []
    },
    "kernelspec": {
      "name": "python3",
      "display_name": "Python 3"
    },
    "language_info": {
      "name": "python"
    }
  },
  "cells": [
    {
      "cell_type": "markdown",
      "source": [
        "**Q1. Explain the key features of Python that make it a popular choice for programming**\n"
      ],
      "metadata": {
        "id": "mocDrwabYInU"
      }
    },
    {
      "cell_type": "markdown",
      "source": [
        "**ANS**: Python is a popular programming language due to its simplicity and\n",
        "readability, making it easy to learn for beginners. It has a clean and straightforward syntax that closely resembles natural language, reducing the complexity of code writing. Python is also highly versatile, supporting various programming paradigms such as procedural, object-oriented, and functional programming, which gives developers flexibility in coding styles.\n",
        "Additionally, Python is platform-independent, meaning code written in Python can run on different operating systems like Windows, macOS, and Linux without modification.\n",
        "Python is widely used in data science due to its simplicity and powerful data analysis capabilities. It provides a wide range of libraries such as Pandas, NumPy, and SciPy, which enable efficient handling and manipulation of large datasets\n",
        "Python also supports advanced statistical analysis and machine learning through libraries like Scikit-learn, TensorFlow, and PyTorch. These frameworks make it easier to build, train, and deploy machine learning models for predictive analytics. Additionally, Python's Matplotlib and Seaborn libraries are excellent for data visualization, allowing users to create informative charts and graphs for better insights.\n",
        "So, according to me these are key features of python that make it a popular choice for programming."
      ],
      "metadata": {
        "id": "DRWoCjglZClk"
      }
    },
    {
      "cell_type": "markdown",
      "source": [
        "**Q2.Describe the role of predefined keywords in Python and provide examples of how they are used in a\n",
        "program**"
      ],
      "metadata": {
        "id": "WHQ5anPiaNMx"
      }
    },
    {
      "cell_type": "markdown",
      "source": [
        "**ANS**: Predefined keywords in Python, also known as reserved words, are an    \n",
        "     integral part of the language syntax. These keywords have specific meanings and uses, and they cannot be used as identifiers (e.g., Object names, function names) because they are reserved for the language's internal operations.\n",
        "Example - >"
      ],
      "metadata": {
        "id": "zhdRpnpAa12q"
      }
    },
    {
      "cell_type": "code",
      "source": [
        "# Here, if, else, elif: Used for conditional statements to execute blocks of code based on a condition.\n",
        "x = 10\n",
        "if x > 5:\n",
        "    print(\"x is greater than 5\")\n",
        "else:\n",
        "    print(\"x is 5 or less\")\n",
        "\n",
        "# Here, for, while: Used to define loops that iterate over sequences or run while a condition is true.\n",
        "for i in range(3):\n",
        "    print(i)\n",
        "\n",
        "i = 0\n",
        "while i < 3:\n",
        "    print(i)\n",
        "    i += 1\n",
        "\n",
        "#def: Used to define a function, return: Used in functions to send back a value to the caller.\n",
        "def greet(name):\n",
        "    print(f\"Hello, {name}\")\n",
        "greet(\"Alice\")\n",
        "\n",
        "def add(a, b):\n",
        "    return a + b\n",
        "\n",
        "result = add(5, 3)\n",
        "print(result)\n",
        "\n",
        "#class,is,len,in,input,int,ord etc are reserved words or Predefined keywords in python."
      ],
      "metadata": {
        "colab": {
          "base_uri": "https://localhost:8080/"
        },
        "id": "FWs02GZich1p",
        "outputId": "9d6d1218-d343-4193-a7e3-5ccfd5dd3992"
      },
      "execution_count": 20,
      "outputs": [
        {
          "output_type": "stream",
          "name": "stdout",
          "text": [
            "x is greater than 5\n",
            "0\n",
            "1\n",
            "2\n",
            "0\n",
            "1\n",
            "2\n",
            "Hello, Alice\n",
            "8\n"
          ]
        }
      ]
    },
    {
      "cell_type": "markdown",
      "source": [
        "**Q3. Compare and constrast mutable and immutable objects in python with examples**\n"
      ],
      "metadata": {
        "id": "Qz5UTzkUeMqz"
      }
    },
    {
      "cell_type": "markdown",
      "source": [
        "**ANS**: In Python, mutable objects can be changed after creation, while immutable objects cannot. Lists, dictionaries, and sets are examples of mutable objects, which allow modifications like adding or removing elements. Immutable objects, such as strings, tuples, and integers, remain constant once created. When a mutable object is altered, the changes happen in place, without creating a new object. In contrast, modifying an immutable object creates a new object, leaving the original unchanged. This makes mutable objects efficient for frequent updates, but they can lead to unintended side effects if shared across functions. Immutable objects, while less efficient for frequent changes, ensure stability and consistency. For example, appending an element to a list modifies the original list, while concatenating a string creates a new one. Choosing between mutable and immutable types depends on the use case and performance needs. Immutable objects are ideal for safety and consistency, while mutable ones are better suited for tasks requiring frequent updates."
      ],
      "metadata": {
        "id": "URP0cwgpWLtO"
      }
    },
    {
      "cell_type": "code",
      "source": [
        "# Mutable\n",
        "x = [1,5,9,5]\n",
        "print(x[0])"
      ],
      "metadata": {
        "colab": {
          "base_uri": "https://localhost:8080/"
        },
        "id": "gYYkzv9SWkod",
        "outputId": "f096286b-0b43-4360-ca0f-0f1fb5ddf4e0"
      },
      "execution_count": 1,
      "outputs": [
        {
          "output_type": "stream",
          "name": "stdout",
          "text": [
            "1\n"
          ]
        }
      ]
    },
    {
      "cell_type": "code",
      "source": [
        "x[0] = 10   # Value of list's element can be changed after creation because list is mutable\n",
        "print(x)"
      ],
      "metadata": {
        "colab": {
          "base_uri": "https://localhost:8080/"
        },
        "id": "ppv8-pMdW3jP",
        "outputId": "aeee4446-1af5-46f8-fa16-cd7da26714d6"
      },
      "execution_count": 2,
      "outputs": [
        {
          "output_type": "stream",
          "name": "stdout",
          "text": [
            "[10, 5, 9, 5]\n"
          ]
        }
      ]
    },
    {
      "cell_type": "code",
      "source": [
        "#immutable\n",
        "y = (1,5,9,5)\n",
        "print(y[0])"
      ],
      "metadata": {
        "colab": {
          "base_uri": "https://localhost:8080/"
        },
        "id": "B6p5PCDpXVzQ",
        "outputId": "660acc1c-7e69-43b4-983d-18109660b8f1"
      },
      "execution_count": 3,
      "outputs": [
        {
          "output_type": "stream",
          "name": "stdout",
          "text": [
            "1\n"
          ]
        }
      ]
    },
    {
      "cell_type": "code",
      "source": [
        "y[0] = 10   # value of tuples's element can't be changed after creation because tuple is immutable\n",
        "print(x)\n"
      ],
      "metadata": {
        "colab": {
          "base_uri": "https://localhost:8080/",
          "height": 158
        },
        "id": "TCb9ub6rXb5u",
        "outputId": "88e27270-1f56-46b4-9a14-bebdf155b67c"
      },
      "execution_count": 5,
      "outputs": [
        {
          "output_type": "error",
          "ename": "TypeError",
          "evalue": "'tuple' object does not support item assignment",
          "traceback": [
            "\u001b[0;31m---------------------------------------------------------------------------\u001b[0m",
            "\u001b[0;31mTypeError\u001b[0m                                 Traceback (most recent call last)",
            "\u001b[0;32m<ipython-input-5-e73639dd4cdc>\u001b[0m in \u001b[0;36m<cell line: 1>\u001b[0;34m()\u001b[0m\n\u001b[0;32m----> 1\u001b[0;31m \u001b[0my\u001b[0m\u001b[0;34m[\u001b[0m\u001b[0;36m0\u001b[0m\u001b[0;34m]\u001b[0m \u001b[0;34m=\u001b[0m \u001b[0;36m10\u001b[0m\u001b[0;34m\u001b[0m\u001b[0;34m\u001b[0m\u001b[0m\n\u001b[0m\u001b[1;32m      2\u001b[0m \u001b[0mprint\u001b[0m\u001b[0;34m(\u001b[0m\u001b[0mx\u001b[0m\u001b[0;34m)\u001b[0m\u001b[0;34m\u001b[0m\u001b[0;34m\u001b[0m\u001b[0m\n",
            "\u001b[0;31mTypeError\u001b[0m: 'tuple' object does not support item assignment"
          ]
        }
      ]
    },
    {
      "cell_type": "markdown",
      "source": [
        "**Q4. Discuss the different types of operators in python and provide examples of how they are used***"
      ],
      "metadata": {
        "id": "s7SKCVgyYxx7"
      }
    },
    {
      "cell_type": "code",
      "source": [
        "#ANS\n",
        "#1.Arithmetic Operators:\n",
        "#These operators are used for mathematical calculations.\n",
        "\n",
        "x = 10\n",
        "y = 5\n",
        "print(x + y)\n",
        "print(x - y)\n",
        "print(x * y)\n",
        "print(x / y)\n",
        "print(x % y)\n",
        "print(x ** y)\n"
      ],
      "metadata": {
        "colab": {
          "base_uri": "https://localhost:8080/"
        },
        "id": "CHzM4XBzZR0s",
        "outputId": "9dd7faeb-0cfd-4d31-d668-8ccc783a8e2a"
      },
      "execution_count": 6,
      "outputs": [
        {
          "output_type": "stream",
          "name": "stdout",
          "text": [
            "15\n",
            "5\n",
            "50\n",
            "2.0\n",
            "0\n",
            "100000\n"
          ]
        }
      ]
    },
    {
      "cell_type": "code",
      "source": [
        "#2.Comparison Operators:\n",
        "#These operators compare two values and return a Boolean value (True or False).\n",
        "\n",
        "x = 10\n",
        "y = 5\n",
        "print(x > y)\n",
        "print(x == y)\n",
        "print(x != y)\n"
      ],
      "metadata": {
        "colab": {
          "base_uri": "https://localhost:8080/"
        },
        "id": "YpxcpQkCZL79",
        "outputId": "abec9687-658a-4784-f933-17900692111f"
      },
      "execution_count": 7,
      "outputs": [
        {
          "output_type": "stream",
          "name": "stdout",
          "text": [
            "True\n",
            "False\n",
            "True\n"
          ]
        }
      ]
    },
    {
      "cell_type": "code",
      "source": [
        "#3.Logical Operators:\n",
        "#These operators are used to combine conditional statements.\n",
        "\n",
        "a = True\n",
        "b = False\n",
        "print(a and b)\n",
        "print(a or b)\n",
        "print(not a)\n"
      ],
      "metadata": {
        "colab": {
          "base_uri": "https://localhost:8080/"
        },
        "id": "ZM0Yif-GZ3eF",
        "outputId": "dd8e2a10-23fd-4688-dbf1-021364d42fd3"
      },
      "execution_count": 8,
      "outputs": [
        {
          "output_type": "stream",
          "name": "stdout",
          "text": [
            "False\n",
            "True\n",
            "False\n"
          ]
        }
      ]
    },
    {
      "cell_type": "code",
      "source": [
        "#4.Assignment Operators:\n",
        "#These operators assign values to variables.\n",
        "\n",
        "x = 5\n",
        "x += 3      #x = x+3\n",
        "x *= 2      #x = x*2\n"
      ],
      "metadata": {
        "id": "YlsKXdjvaCx-"
      },
      "execution_count": 9,
      "outputs": []
    },
    {
      "cell_type": "code",
      "source": [
        "#5.Membership Operators:\n",
        "#These check for membership in a sequence like strings, lists, or tuples.\n",
        "\n",
        "list_ = [1, 2, 3, 4]\n",
        "print(3 in list_)\n",
        "print(5 not in list_)\n"
      ],
      "metadata": {
        "colab": {
          "base_uri": "https://localhost:8080/"
        },
        "id": "tHP-AQqgaWBu",
        "outputId": "96c34a3f-0326-47c3-9c7d-93aab05d9748"
      },
      "execution_count": 10,
      "outputs": [
        {
          "output_type": "stream",
          "name": "stdout",
          "text": [
            "True\n",
            "True\n"
          ]
        }
      ]
    },
    {
      "cell_type": "code",
      "source": [
        "#6. Identity Operators:\n",
        "#These check if two objects are the same in memory.\n",
        "\n",
        "x = [1, 2]\n",
        "y = x\n",
        "z = [1, 2]\n",
        "print(x is y)\n",
        "print(x is z)"
      ],
      "metadata": {
        "colab": {
          "base_uri": "https://localhost:8080/"
        },
        "id": "koINQknDar9t",
        "outputId": "463e9b9f-2ac9-4e80-ec1f-e68ee5fa7d30"
      },
      "execution_count": 11,
      "outputs": [
        {
          "output_type": "stream",
          "name": "stdout",
          "text": [
            "True\n",
            "False\n"
          ]
        }
      ]
    },
    {
      "cell_type": "code",
      "source": [
        "#7.  Bitwise Operators:\n",
        "#These operators perform bit-level operations.\n",
        "\n",
        "x = 5\n",
        "y = 3\n",
        "print(x & y)\n",
        "print(x | y)\n"
      ],
      "metadata": {
        "colab": {
          "base_uri": "https://localhost:8080/"
        },
        "id": "JjU6LtYMa5oV",
        "outputId": "be61f44c-b60c-4b0f-f639-2c0395193d55"
      },
      "execution_count": 12,
      "outputs": [
        {
          "output_type": "stream",
          "name": "stdout",
          "text": [
            "1\n",
            "7\n"
          ]
        }
      ]
    },
    {
      "cell_type": "markdown",
      "source": [
        "**Q5.\n",
        "Explain the concept of type casting in Python with examples.**"
      ],
      "metadata": {
        "id": "ZD93say0bNlt"
      }
    },
    {
      "cell_type": "markdown",
      "source": [
        "**ANS** Type casting in Python refers to the process of converting one data type into another. This is useful when you need to perform operations that require matching data types or when you want to change the type of a variable to meet specific requirements.\n",
        "\n",
        "\n",
        "\n",
        "*   Types of Type casting\n",
        "\n",
        "1.   Implicit Type Casting\n",
        "2.   Explicit Type Casting\n",
        "\n",
        "\n",
        "\n",
        "\n",
        "*   **Implicit Type Casting:** Python automatically converts one data type to another whenever required without explicit instructions from the programmer. This usually happens when a smaller data type is converted to a larger one to avoid data loss.\n",
        "*   **Explicit Type Casting:** In explicit type casting, the programmer manually converts one data type into another using predefined functions like int(), float(), str(), etc."
      ],
      "metadata": {
        "id": "Q7Dc2-Imbqwj"
      }
    },
    {
      "cell_type": "code",
      "source": [
        "#Example\n",
        "\n",
        "#Implicit type casting\n",
        "\n",
        "x = 10   # Int\n",
        "y = 2.5  # Float\n",
        "result = x + y  # Implicitly converts 'x' to float\n",
        "print(result)\n",
        "print(type(result))"
      ],
      "metadata": {
        "colab": {
          "base_uri": "https://localhost:8080/"
        },
        "id": "-QnD43_Cctna",
        "outputId": "c836701b-4157-4d2d-fdbf-71aaef9d8df5"
      },
      "execution_count": 14,
      "outputs": [
        {
          "output_type": "stream",
          "name": "stdout",
          "text": [
            "12.5\n",
            "<class 'float'>\n",
            "5\n",
            "123\n",
            "Age: 30\n"
          ]
        }
      ]
    },
    {
      "cell_type": "code",
      "source": [
        "#Explicit type casting\n",
        "\n",
        "# Converting float to int\n",
        "x = 5.7\n",
        "y = int(x)  # Explicitly converts to integer\n",
        "print(y)\n",
        "\n",
        "# Converting string to integer\n",
        "s = \"123\"\n",
        "num = int(s)  # Converts string to integer\n",
        "print(num)\n",
        "\n",
        "# Converting integer to string\n",
        "age = 30\n",
        "age_str = str(age)  # Converts integer to string\n",
        "print(\"Age: \" + age_str)"
      ],
      "metadata": {
        "colab": {
          "base_uri": "https://localhost:8080/"
        },
        "id": "uTt7tdakdUjz",
        "outputId": "a2912116-f5c8-47e8-e47a-0ebf372fc748"
      },
      "execution_count": 15,
      "outputs": [
        {
          "output_type": "stream",
          "name": "stdout",
          "text": [
            "5\n",
            "123\n",
            "Age: 30\n"
          ]
        }
      ]
    },
    {
      "cell_type": "markdown",
      "source": [
        "**Q6.\n",
        "How do conditional statements work in Python? Illustrate with examples.**"
      ],
      "metadata": {
        "id": "Jbi3lISgdbRB"
      }
    },
    {
      "cell_type": "markdown",
      "source": [
        "**ANS:** In Python, conditional statements allow you to execute certain blocks of code based on specific conditions. These conditions typically involve comparisons or Boolean expressions that evaluate to either True or False. The main conditional statements are if, elif, and else."
      ],
      "metadata": {
        "id": "95JdMFPQdq3R"
      }
    },
    {
      "cell_type": "code",
      "source": [
        "#1. if Statement:\n",
        "#The if statement runs a block of code if the condition is True.\n",
        "\n",
        "age = 18\n",
        "if age >= 18:\n",
        "    print(\"You are an adult.\")  # This will be printed because the condition is True\n"
      ],
      "metadata": {
        "colab": {
          "base_uri": "https://localhost:8080/"
        },
        "id": "wK3jWJRIeCMx",
        "outputId": "7c38323c-3484-456b-c44a-3d5be21a0807"
      },
      "execution_count": 16,
      "outputs": [
        {
          "output_type": "stream",
          "name": "stdout",
          "text": [
            "You are an adult.\n"
          ]
        }
      ]
    },
    {
      "cell_type": "code",
      "source": [
        "#2. elif (else if) Statement:\n",
        "#The elif statement allows you to check multiple conditions. If the if condition is False, Python checks the elif conditions in sequence.\n",
        "\n",
        "grade = 85\n",
        "if grade >= 90:\n",
        "    print(\"A\")\n",
        "elif grade >= 80:\n",
        "    print(\"B\")\n",
        "elif grade >= 70:\n",
        "    print(\"C\")\n",
        "else:\n",
        "    print(\"D\")\n"
      ],
      "metadata": {
        "colab": {
          "base_uri": "https://localhost:8080/"
        },
        "id": "0IizhWceeMMR",
        "outputId": "08a83762-c8dd-4c38-a8f1-75dd1b27d46d"
      },
      "execution_count": 17,
      "outputs": [
        {
          "output_type": "stream",
          "name": "stdout",
          "text": [
            "B\n"
          ]
        }
      ]
    },
    {
      "cell_type": "code",
      "source": [
        "#3.else Statement:\n",
        "#The else statement runs when none of the preceding conditions are True.\n",
        "\n",
        "temperature = 15\n",
        "if temperature > 30:\n",
        "    print(\"It's hot outside.\")\n",
        "elif temperature > 20:\n",
        "    print(\"It's warm.\")\n",
        "else:\n",
        "    print(\"It's cold.\")  # This will be printed because 15 is not greater than 20\n"
      ],
      "metadata": {
        "colab": {
          "base_uri": "https://localhost:8080/"
        },
        "id": "Th7_qGCXeXih",
        "outputId": "2a3a8cc6-2a8a-435e-c5d2-d5e62eaddeac"
      },
      "execution_count": 18,
      "outputs": [
        {
          "output_type": "stream",
          "name": "stdout",
          "text": [
            "It's cold.\n"
          ]
        }
      ]
    },
    {
      "cell_type": "code",
      "source": [
        "#4. Nested Conditionals:\n",
        "#You can nest conditional statements inside other conditionals to test more complex conditions.\n",
        "\n",
        "x = 10\n",
        "y = 5\n",
        "if x > 5:\n",
        "    if y > 2:\n",
        "        print(\"x is greater than 5 and y is greater than 2\")"
      ],
      "metadata": {
        "colab": {
          "base_uri": "https://localhost:8080/"
        },
        "id": "Co8p4l7nej-A",
        "outputId": "8560c656-0803-45b0-d0a2-81482cd85b4c"
      },
      "execution_count": 19,
      "outputs": [
        {
          "output_type": "stream",
          "name": "stdout",
          "text": [
            "x is greater than 5 and y is greater than 2\n"
          ]
        }
      ]
    },
    {
      "cell_type": "markdown",
      "source": [
        "**Q7. Describe the different types of loops in Python and their use cases with examples.**"
      ],
      "metadata": {
        "id": "iGrwL5r4cWCb"
      }
    },
    {
      "cell_type": "markdown",
      "source": [
        "**ANS.** In Python, loops are used to repeatedly execute a block of code until a specified condition is met. There are two primary types of loops: for loops and while loops.\n"
      ],
      "metadata": {
        "id": "ur_62CVZfa3R"
      }
    },
    {
      "cell_type": "code",
      "source": [
        "#for loop\n",
        "#The for loop is used to iterate over a sequence (such as a list, tuple, string, or range) and execute a block of code for each item in the sequence.\n",
        "\n",
        "fruits = [\"apple\", \"banana\", \"cherry\"]\n",
        "for fruit in fruits:\n",
        "    print(fruit)"
      ],
      "metadata": {
        "colab": {
          "base_uri": "https://localhost:8080/"
        },
        "id": "pKAKHxy2fgdp",
        "outputId": "2ad8c5ab-70d9-4ff9-baba-439760a7956e"
      },
      "execution_count": 21,
      "outputs": [
        {
          "output_type": "stream",
          "name": "stdout",
          "text": [
            "apple\n",
            "banana\n",
            "cherry\n"
          ]
        }
      ]
    },
    {
      "cell_type": "code",
      "source": [
        "#while loop\n",
        "#The while loop repeatedly executes a block of code as long as a specified condition is True.\n",
        "\n",
        "count = 0\n",
        "while count < 5:\n",
        "    print(count)\n",
        "    count += 1"
      ],
      "metadata": {
        "colab": {
          "base_uri": "https://localhost:8080/"
        },
        "id": "cmFm-UKLfoSA",
        "outputId": "448ed076-88a3-4aee-ed01-b5878661f90b"
      },
      "execution_count": 22,
      "outputs": [
        {
          "output_type": "stream",
          "name": "stdout",
          "text": [
            "0\n",
            "1\n",
            "2\n",
            "3\n",
            "4\n"
          ]
        }
      ]
    }
  ]
}