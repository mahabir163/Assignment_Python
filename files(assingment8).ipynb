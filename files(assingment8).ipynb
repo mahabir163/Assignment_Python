{
 "cells": [
  {
   "cell_type": "markdown",
   "metadata": {},
   "source": [
    "4. Write a Python program using multithreading where one thread adds numbers to a list, and another\n",
    "thread removes numbers from the list. Implement a mechanism to avoid race conditions using\n",
    "threading.Lock."
   ]
  },
  {
   "cell_type": "code",
   "execution_count": 1,
   "metadata": {},
   "outputs": [
    {
     "name": "stdout",
     "output_type": "stream",
     "text": [
      "Added 26, List: [26]\n",
      "Removed 26, List: []\n",
      "Added 41, List: [41]\n",
      "Removed 41, List: []\n",
      "Added 60, List: [60]\n",
      "Removed 60, List: []\n",
      "Added 93, List: [93]\n",
      "Added 55, List: [93, 55]\n",
      "Removed 93, List: [55]\n",
      "Added 62, List: [55, 62]\n",
      "Removed 55, List: [62]\n",
      "Added 81, List: [62, 81]\n",
      "Removed 62, List: [81]\n",
      "Added 73, List: [81, 73]\n",
      "Added 67, List: [81, 73, 67]\n",
      "Removed 81, List: [73, 67]\n",
      "Added 49, List: [73, 67, 49]\n",
      "Removed 73, List: [67, 49]\n",
      "Removed 67, List: [49]\n",
      "Removed 49, List: []\n"
     ]
    }
   ],
   "source": [
    "import threading\n",
    "import time\n",
    "import random\n",
    "\n",
    "shared_list = []\n",
    "lock = threading.Lock()\n",
    "\n",
    "def add_to_list():\n",
    "    for _ in range(10):\n",
    "        with lock:\n",
    "            num = random.randint(1, 100)\n",
    "            shared_list.append(num)\n",
    "            print(f\"Added {num}, List: {shared_list}\")\n",
    "        time.sleep(0.5)\n",
    "\n",
    "def remove_from_list():\n",
    "    for _ in range(10):\n",
    "        with lock:\n",
    "            if shared_list:\n",
    "                num = shared_list.pop(0)\n",
    "                print(f\"Removed {num}, List: {shared_list}\")\n",
    "        time.sleep(0.7)\n",
    "\n",
    "thread1 = threading.Thread(target=add_to_list)\n",
    "thread2 = threading.Thread(target=remove_from_list)\n",
    "\n",
    "thread1.start()\n",
    "thread2.start()\n",
    "\n",
    "thread1.join()\n",
    "thread2.join()\n"
   ]
  },
  {
   "cell_type": "markdown",
   "metadata": {},
   "source": [
    "7. Create a program that uses a thread pool to calculate the factorial of numbers from 1 to 10 concurrently.\n",
    "Use concurrent.futures.ThreadPoolExecutor to manage the threads."
   ]
  },
  {
   "cell_type": "code",
   "execution_count": 2,
   "metadata": {},
   "outputs": [
    {
     "name": "stdout",
     "output_type": "stream",
     "text": [
      "Factorials: [1, 2, 6, 24, 120, 720, 5040, 40320, 362880, 3628800]\n"
     ]
    }
   ],
   "source": [
    "from concurrent.futures import ThreadPoolExecutor\n",
    "import math\n",
    "\n",
    "def calculate_factorial(n):\n",
    "    return math.factorial(n)\n",
    "\n",
    "numbers = range(1, 11)\n",
    "\n",
    "with ThreadPoolExecutor() as executor:\n",
    "    results = list(executor.map(calculate_factorial, numbers))\n",
    "\n",
    "print(\"Factorials:\", results)\n"
   ]
  },
  {
   "cell_type": "markdown",
   "metadata": {},
   "source": [
    "8. Create a Python program that uses multiprocessing.Pool to compute the square of numbers from 1 to 10 in\n",
    "parallel. Measure the time taken to perform this computation using a pool of different sizes (e.g., 2, 4, 8\n",
    "processes)."
   ]
  },
  {
   "cell_type": "code",
   "execution_count": null,
   "metadata": {},
   "outputs": [],
   "source": [
    "from multiprocessing import Pool\n",
    "import time\n",
    "\n",
    "def square(n):\n",
    "    return n ** 2\n",
    "\n",
    "numbers = range(1, 11)\n",
    "\n",
    "for pool_size in [2, 4, 8]:\n",
    "    start_time = time.time()\n",
    "    with Pool(pool_size) as pool:\n",
    "        results = pool.map(square, numbers)\n",
    "    end_time = time.time()\n",
    "    print(f\"Pool Size: {pool_size}, Squares: {results}, Time Taken: {end_time - start_time:.4f} seconds\")\n"
   ]
  }
 ],
 "metadata": {
  "kernelspec": {
   "display_name": "Python 3",
   "language": "python",
   "name": "python3"
  },
  "language_info": {
   "codemirror_mode": {
    "name": "ipython",
    "version": 3
   },
   "file_extension": ".py",
   "mimetype": "text/x-python",
   "name": "python",
   "nbconvert_exporter": "python",
   "pygments_lexer": "ipython3",
   "version": "3.12.1"
  }
 },
 "nbformat": 4,
 "nbformat_minor": 2
}
